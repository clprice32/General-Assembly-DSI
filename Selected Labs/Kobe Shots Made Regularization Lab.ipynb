{
 "cells": [
  {
   "cell_type": "markdown",
   "metadata": {},
   "source": [
    "<img src=\"http://imgur.com/1ZcRyrc.png\" style=\"float: left; margin: 20px; height: 55px\">\n",
    "\n",
    "# Predicting shots made per game by Kobe Bryant\n",
    "\n",
    "_Authors: Kiefer Katovich (SF)_\n",
    "\n",
    "---\n",
    "\n",
    "In this lab you'll be using regularized regression penalties Ridge, Lasso, and Elastic Net to try and predict how many shots Kobe Bryant made per game in his career.\n",
    "\n",
    "The Kobe shots dataset has hundreds of columns representing different characteristics of each basketball game. Fitting an ordinary linear regression using every predictor would dramatically overfit the model considering the limited number of observations (games) we have available. Furthermore, many of the predictors have significant multicollinearity. \n",
    "\n",
    "---\n",
    "\n",
    "### 1. Load packages and data"
   ]
  },
  {
   "cell_type": "code",
   "execution_count": 4,
   "metadata": {
    "collapsed": true
   },
   "outputs": [],
   "source": [
    "import numpy as np\n",
    "import pandas as pd\n",
    "import patsy\n",
    "\n",
    "from sklearn.linear_model import Ridge, Lasso, ElasticNet, LinearRegression, RidgeCV, LassoCV, ElasticNetCV\n",
    "from sklearn.cross_validation import cross_val_score\n",
    "\n",
    "import matplotlib\n",
    "import matplotlib.pyplot as plt\n",
    "import seaborn as sns\n",
    "plt.style.use('fivethirtyeight')\n",
    "\n",
    "%config InlineBackend.figure_format = 'retina'\n",
    "%matplotlib inline"
   ]
  },
  {
   "cell_type": "code",
   "execution_count": 5,
   "metadata": {
    "collapsed": true
   },
   "outputs": [],
   "source": [
    "kobe = pd.read_csv('./datasets/kobe_superwide_games.csv')"
   ]
  },
  {
   "cell_type": "markdown",
   "metadata": {},
   "source": [
    "---\n",
    "\n",
    "### 2. Examine the data\n",
    "\n",
    "- How many columns are there?\n",
    "- Examine what the observations (rows) and columns represent.\n",
    "- Why is this data that regularization might be particularly useful for?"
   ]
  },
  {
   "cell_type": "code",
   "execution_count": 20,
   "metadata": {},
   "outputs": [
    {
     "data": {
      "text/plain": [
       "array(['SHOTS_MADE', 'AWAY_GAME', 'SEASON_OPPONENT:atl:1996-97',\n",
       "       'SEASON_OPPONENT:atl:1997-98', 'SEASON_OPPONENT:atl:1999-00',\n",
       "       'SEASON_OPPONENT:atl:2000-01', 'SEASON_OPPONENT:atl:2001-02',\n",
       "       'SEASON_OPPONENT:atl:2002-03', 'SEASON_OPPONENT:atl:2003-04',\n",
       "       'SEASON_OPPONENT:atl:2004-05', 'SEASON_OPPONENT:atl:2005-06',\n",
       "       'SEASON_OPPONENT:atl:2006-07', 'SEASON_OPPONENT:atl:2007-08',\n",
       "       'SEASON_OPPONENT:atl:2008-09', 'SEASON_OPPONENT:atl:2009-10',\n",
       "       'SEASON_OPPONENT:atl:2010-11', 'SEASON_OPPONENT:atl:2011-12',\n",
       "       'SEASON_OPPONENT:atl:2012-13', 'SEASON_OPPONENT:atl:2013-14',\n",
       "       'SEASON_OPPONENT:atl:2014-15', 'SEASON_OPPONENT:atl:2015-16',\n",
       "       'SEASON_OPPONENT:bkn:2012-13', 'SEASON_OPPONENT:bkn:2015-16',\n",
       "       'SEASON_OPPONENT:bos:1996-97', 'SEASON_OPPONENT:bos:1997-98',\n",
       "       'SEASON_OPPONENT:bos:1999-00', 'SEASON_OPPONENT:bos:2001-02',\n",
       "       'SEASON_OPPONENT:bos:2002-03', 'SEASON_OPPONENT:bos:2003-04',\n",
       "       'SEASON_OPPONENT:bos:2004-05', 'SEASON_OPPONENT:bos:2005-06',\n",
       "       'SEASON_OPPONENT:bos:2006-07', 'SEASON_OPPONENT:bos:2007-08',\n",
       "       'SEASON_OPPONENT:bos:2008-09', 'SEASON_OPPONENT:bos:2009-10',\n",
       "       'SEASON_OPPONENT:bos:2010-11', 'SEASON_OPPONENT:bos:2011-12',\n",
       "       'SEASON_OPPONENT:bos:2012-13', 'SEASON_OPPONENT:bos:2014-15',\n",
       "       'SEASON_OPPONENT:bos:2015-16', 'SEASON_OPPONENT:cha:1996-97',\n",
       "       'SEASON_OPPONENT:cha:1997-98', 'SEASON_OPPONENT:cha:1998-99',\n",
       "       'SEASON_OPPONENT:cha:1999-00', 'SEASON_OPPONENT:cha:2000-01',\n",
       "       'SEASON_OPPONENT:cha:2001-02', 'SEASON_OPPONENT:cha:2004-05',\n",
       "       'SEASON_OPPONENT:cha:2005-06', 'SEASON_OPPONENT:cha:2006-07',\n",
       "       'SEASON_OPPONENT:cha:2007-08', 'SEASON_OPPONENT:cha:2008-09',\n",
       "       'SEASON_OPPONENT:cha:2009-10', 'SEASON_OPPONENT:cha:2010-11',\n",
       "       'SEASON_OPPONENT:cha:2011-12', 'SEASON_OPPONENT:cha:2012-13',\n",
       "       'SEASON_OPPONENT:cha:2013-14', 'SEASON_OPPONENT:cha:2014-15',\n",
       "       'SEASON_OPPONENT:cha:2015-16', 'SEASON_OPPONENT:chi:1996-97',\n",
       "       'SEASON_OPPONENT:chi:1997-98', 'SEASON_OPPONENT:chi:1999-00',\n",
       "       'SEASON_OPPONENT:chi:2000-01', 'SEASON_OPPONENT:chi:2001-02',\n",
       "       'SEASON_OPPONENT:chi:2002-03', 'SEASON_OPPONENT:chi:2003-04',\n",
       "       'SEASON_OPPONENT:chi:2004-05', 'SEASON_OPPONENT:chi:2005-06',\n",
       "       'SEASON_OPPONENT:chi:2006-07', 'SEASON_OPPONENT:chi:2007-08',\n",
       "       'SEASON_OPPONENT:chi:2008-09', 'SEASON_OPPONENT:chi:2009-10',\n",
       "       'SEASON_OPPONENT:chi:2010-11', 'SEASON_OPPONENT:chi:2011-12',\n",
       "       'SEASON_OPPONENT:chi:2012-13', 'SEASON_OPPONENT:chi:2015-16',\n",
       "       'SEASON_OPPONENT:cle:1996-97', 'SEASON_OPPONENT:cle:1997-98',\n",
       "       'SEASON_OPPONENT:cle:1998-99', 'SEASON_OPPONENT:cle:1999-00',\n",
       "       'SEASON_OPPONENT:cle:2000-01', 'SEASON_OPPONENT:cle:2001-02',\n",
       "       'SEASON_OPPONENT:cle:2002-03', 'SEASON_OPPONENT:cle:2003-04',\n",
       "       'SEASON_OPPONENT:cle:2004-05', 'SEASON_OPPONENT:cle:2005-06',\n",
       "       'SEASON_OPPONENT:cle:2006-07', 'SEASON_OPPONENT:cle:2007-08',\n",
       "       'SEASON_OPPONENT:cle:2008-09', 'SEASON_OPPONENT:cle:2009-10',\n",
       "       'SEASON_OPPONENT:cle:2010-11', 'SEASON_OPPONENT:cle:2011-12',\n",
       "       'SEASON_OPPONENT:cle:2012-13', 'SEASON_OPPONENT:cle:2014-15',\n",
       "       'SEASON_OPPONENT:cle:2015-16', 'SEASON_OPPONENT:dal:1996-97',\n",
       "       'SEASON_OPPONENT:dal:1997-98', 'SEASON_OPPONENT:dal:1998-99',\n",
       "       'SEASON_OPPONENT:dal:1999-00', 'SEASON_OPPONENT:dal:2000-01',\n",
       "       'SEASON_OPPONENT:dal:2001-02', 'SEASON_OPPONENT:dal:2002-03',\n",
       "       'SEASON_OPPONENT:dal:2003-04', 'SEASON_OPPONENT:dal:2004-05',\n",
       "       'SEASON_OPPONENT:dal:2005-06', 'SEASON_OPPONENT:dal:2006-07',\n",
       "       'SEASON_OPPONENT:dal:2007-08', 'SEASON_OPPONENT:dal:2008-09',\n",
       "       'SEASON_OPPONENT:dal:2009-10', 'SEASON_OPPONENT:dal:2010-11',\n",
       "       'SEASON_OPPONENT:dal:2011-12', 'SEASON_OPPONENT:dal:2012-13',\n",
       "       'SEASON_OPPONENT:dal:2014-15', 'SEASON_OPPONENT:dal:2015-16',\n",
       "       'SEASON_OPPONENT:den:1996-97', 'SEASON_OPPONENT:den:1997-98',\n",
       "       'SEASON_OPPONENT:den:1998-99', 'SEASON_OPPONENT:den:1999-00',\n",
       "       'SEASON_OPPONENT:den:2000-01', 'SEASON_OPPONENT:den:2001-02',\n",
       "       'SEASON_OPPONENT:den:2002-03', 'SEASON_OPPONENT:den:2003-04',\n",
       "       'SEASON_OPPONENT:den:2004-05', 'SEASON_OPPONENT:den:2005-06',\n",
       "       'SEASON_OPPONENT:den:2006-07', 'SEASON_OPPONENT:den:2007-08',\n",
       "       'SEASON_OPPONENT:den:2008-09', 'SEASON_OPPONENT:den:2009-10',\n",
       "       'SEASON_OPPONENT:den:2010-11', 'SEASON_OPPONENT:den:2011-12',\n",
       "       'SEASON_OPPONENT:den:2012-13', 'SEASON_OPPONENT:den:2014-15',\n",
       "       'SEASON_OPPONENT:den:2015-16', 'SEASON_OPPONENT:det:1996-97',\n",
       "       'SEASON_OPPONENT:det:1997-98', 'SEASON_OPPONENT:det:1999-00',\n",
       "       'SEASON_OPPONENT:det:2000-01', 'SEASON_OPPONENT:det:2001-02',\n",
       "       'SEASON_OPPONENT:det:2002-03', 'SEASON_OPPONENT:det:2003-04',\n",
       "       'SEASON_OPPONENT:det:2004-05', 'SEASON_OPPONENT:det:2005-06',\n",
       "       'SEASON_OPPONENT:det:2006-07', 'SEASON_OPPONENT:det:2007-08',\n",
       "       'SEASON_OPPONENT:det:2008-09', 'SEASON_OPPONENT:det:2009-10',\n",
       "       'SEASON_OPPONENT:det:2010-11', 'SEASON_OPPONENT:det:2011-12',\n",
       "       'SEASON_OPPONENT:det:2012-13', 'SEASON_OPPONENT:det:2014-15',\n",
       "       'SEASON_OPPONENT:det:2015-16', 'SEASON_OPPONENT:gsw:1996-97',\n",
       "       'SEASON_OPPONENT:gsw:1997-98', 'SEASON_OPPONENT:gsw:1998-99',\n",
       "       'SEASON_OPPONENT:gsw:1999-00', 'SEASON_OPPONENT:gsw:2000-01',\n",
       "       'SEASON_OPPONENT:gsw:2001-02', 'SEASON_OPPONENT:gsw:2002-03',\n",
       "       'SEASON_OPPONENT:gsw:2003-04', 'SEASON_OPPONENT:gsw:2004-05',\n",
       "       'SEASON_OPPONENT:gsw:2005-06', 'SEASON_OPPONENT:gsw:2006-07',\n",
       "       'SEASON_OPPONENT:gsw:2007-08', 'SEASON_OPPONENT:gsw:2008-09',\n",
       "       'SEASON_OPPONENT:gsw:2009-10', 'SEASON_OPPONENT:gsw:2010-11',\n",
       "       'SEASON_OPPONENT:gsw:2011-12', 'SEASON_OPPONENT:gsw:2012-13',\n",
       "       'SEASON_OPPONENT:gsw:2014-15', 'SEASON_OPPONENT:gsw:2015-16',\n",
       "       'SEASON_OPPONENT:hou:1996-97', 'SEASON_OPPONENT:hou:1997-98',\n",
       "       'SEASON_OPPONENT:hou:1998-99', 'SEASON_OPPONENT:hou:1999-00',\n",
       "       'SEASON_OPPONENT:hou:2000-01', 'SEASON_OPPONENT:hou:2001-02',\n",
       "       'SEASON_OPPONENT:hou:2002-03', 'SEASON_OPPONENT:hou:2003-04',\n",
       "       'SEASON_OPPONENT:hou:2004-05', 'SEASON_OPPONENT:hou:2005-06',\n",
       "       'SEASON_OPPONENT:hou:2006-07', 'SEASON_OPPONENT:hou:2007-08',\n",
       "       'SEASON_OPPONENT:hou:2008-09', 'SEASON_OPPONENT:hou:2009-10',\n",
       "       'SEASON_OPPONENT:hou:2010-11', 'SEASON_OPPONENT:hou:2011-12',\n",
       "       'SEASON_OPPONENT:hou:2012-13', 'SEASON_OPPONENT:hou:2014-15',\n",
       "       'SEASON_OPPONENT:hou:2015-16', 'SEASON_OPPONENT:ind:1996-97',\n",
       "       'SEASON_OPPONENT:ind:1997-98', 'SEASON_OPPONENT:ind:1998-99',\n",
       "       'SEASON_OPPONENT:ind:1999-00', 'SEASON_OPPONENT:ind:2000-01',\n",
       "       'SEASON_OPPONENT:ind:2001-02', 'SEASON_OPPONENT:ind:2002-03',\n",
       "       'SEASON_OPPONENT:ind:2003-04', 'SEASON_OPPONENT:ind:2004-05',\n",
       "       'SEASON_OPPONENT:ind:2005-06', 'SEASON_OPPONENT:ind:2006-07',\n",
       "       'SEASON_OPPONENT:ind:2007-08', 'SEASON_OPPONENT:ind:2008-09',\n",
       "       'SEASON_OPPONENT:ind:2009-10', 'SEASON_OPPONENT:ind:2010-11',\n",
       "       'SEASON_OPPONENT:ind:2011-12', 'SEASON_OPPONENT:ind:2012-13',\n",
       "       'SEASON_OPPONENT:ind:2014-15', 'SEASON_OPPONENT:ind:2015-16',\n",
       "       'SEASON_OPPONENT:lac:1996-97', 'SEASON_OPPONENT:lac:1997-98',\n",
       "       'SEASON_OPPONENT:lac:1998-99', 'SEASON_OPPONENT:lac:1999-00',\n",
       "       'SEASON_OPPONENT:lac:2000-01', 'SEASON_OPPONENT:lac:2001-02',\n",
       "       'SEASON_OPPONENT:lac:2002-03', 'SEASON_OPPONENT:lac:2003-04',\n",
       "       'SEASON_OPPONENT:lac:2004-05', 'SEASON_OPPONENT:lac:2005-06',\n",
       "       'SEASON_OPPONENT:lac:2006-07', 'SEASON_OPPONENT:lac:2007-08',\n",
       "       'SEASON_OPPONENT:lac:2008-09', 'SEASON_OPPONENT:lac:2009-10',\n",
       "       'SEASON_OPPONENT:lac:2010-11', 'SEASON_OPPONENT:lac:2011-12',\n",
       "       'SEASON_OPPONENT:lac:2012-13', 'SEASON_OPPONENT:lac:2014-15',\n",
       "       'SEASON_OPPONENT:lac:2015-16', 'SEASON_OPPONENT:mem:2001-02',\n",
       "       'SEASON_OPPONENT:mem:2002-03', 'SEASON_OPPONENT:mem:2003-04',\n",
       "       'SEASON_OPPONENT:mem:2004-05', 'SEASON_OPPONENT:mem:2005-06',\n",
       "       'SEASON_OPPONENT:mem:2006-07', 'SEASON_OPPONENT:mem:2007-08',\n",
       "       'SEASON_OPPONENT:mem:2008-09', 'SEASON_OPPONENT:mem:2009-10',\n",
       "       'SEASON_OPPONENT:mem:2010-11', 'SEASON_OPPONENT:mem:2011-12',\n",
       "       'SEASON_OPPONENT:mem:2012-13', 'SEASON_OPPONENT:mem:2013-14',\n",
       "       'SEASON_OPPONENT:mem:2014-15', 'SEASON_OPPONENT:mem:2015-16',\n",
       "       'SEASON_OPPONENT:mia:1996-97', 'SEASON_OPPONENT:mia:1997-98',\n",
       "       'SEASON_OPPONENT:mia:1999-00', 'SEASON_OPPONENT:mia:2000-01',\n",
       "       'SEASON_OPPONENT:mia:2001-02', 'SEASON_OPPONENT:mia:2002-03',\n",
       "       'SEASON_OPPONENT:mia:2003-04', 'SEASON_OPPONENT:mia:2004-05',\n",
       "       'SEASON_OPPONENT:mia:2005-06', 'SEASON_OPPONENT:mia:2006-07',\n",
       "       'SEASON_OPPONENT:mia:2007-08', 'SEASON_OPPONENT:mia:2008-09',\n",
       "       'SEASON_OPPONENT:mia:2009-10', 'SEASON_OPPONENT:mia:2010-11',\n",
       "       'SEASON_OPPONENT:mia:2011-12', 'SEASON_OPPONENT:mia:2012-13',\n",
       "       'SEASON_OPPONENT:mia:2014-15', 'SEASON_OPPONENT:mia:2015-16',\n",
       "       'SEASON_OPPONENT:mil:1996-97', 'SEASON_OPPONENT:mil:1997-98',\n",
       "       'SEASON_OPPONENT:mil:1999-00', 'SEASON_OPPONENT:mil:2000-01',\n",
       "       'SEASON_OPPONENT:mil:2001-02', 'SEASON_OPPONENT:mil:2002-03',\n",
       "       'SEASON_OPPONENT:mil:2003-04', 'SEASON_OPPONENT:mil:2004-05',\n",
       "       'SEASON_OPPONENT:mil:2005-06', 'SEASON_OPPONENT:mil:2006-07',\n",
       "       'SEASON_OPPONENT:mil:2007-08', 'SEASON_OPPONENT:mil:2008-09',\n",
       "       'SEASON_OPPONENT:mil:2009-10', 'SEASON_OPPONENT:mil:2010-11',\n",
       "       'SEASON_OPPONENT:mil:2011-12', 'SEASON_OPPONENT:mil:2012-13',\n",
       "       'SEASON_OPPONENT:mil:2015-16', 'SEASON_OPPONENT:min:1996-97',\n",
       "       'SEASON_OPPONENT:min:1997-98', 'SEASON_OPPONENT:min:1998-99',\n",
       "       'SEASON_OPPONENT:min:1999-00', 'SEASON_OPPONENT:min:2000-01',\n",
       "       'SEASON_OPPONENT:min:2001-02', 'SEASON_OPPONENT:min:2002-03',\n",
       "       'SEASON_OPPONENT:min:2003-04', 'SEASON_OPPONENT:min:2004-05',\n",
       "       'SEASON_OPPONENT:min:2005-06', 'SEASON_OPPONENT:min:2006-07',\n",
       "       'SEASON_OPPONENT:min:2007-08', 'SEASON_OPPONENT:min:2008-09',\n",
       "       'SEASON_OPPONENT:min:2009-10', 'SEASON_OPPONENT:min:2010-11',\n",
       "       'SEASON_OPPONENT:min:2011-12', 'SEASON_OPPONENT:min:2012-13',\n",
       "       'SEASON_OPPONENT:min:2014-15', 'SEASON_OPPONENT:min:2015-16',\n",
       "       'SEASON_OPPONENT:njn:1996-97', 'SEASON_OPPONENT:njn:1997-98',\n",
       "       'SEASON_OPPONENT:njn:1999-00', 'SEASON_OPPONENT:njn:2000-01',\n",
       "       'SEASON_OPPONENT:njn:2001-02', 'SEASON_OPPONENT:njn:2002-03',\n",
       "       'SEASON_OPPONENT:njn:2003-04', 'SEASON_OPPONENT:njn:2005-06',\n",
       "       'SEASON_OPPONENT:njn:2006-07', 'SEASON_OPPONENT:njn:2007-08',\n",
       "       'SEASON_OPPONENT:njn:2008-09', 'SEASON_OPPONENT:njn:2009-10',\n",
       "       'SEASON_OPPONENT:njn:2010-11', 'SEASON_OPPONENT:njn:2011-12',\n",
       "       'SEASON_OPPONENT:noh:2002-03', 'SEASON_OPPONENT:noh:2003-04',\n",
       "       'SEASON_OPPONENT:noh:2007-08', 'SEASON_OPPONENT:noh:2008-09',\n",
       "       'SEASON_OPPONENT:noh:2009-10', 'SEASON_OPPONENT:noh:2010-11',\n",
       "       'SEASON_OPPONENT:noh:2011-12', 'SEASON_OPPONENT:noh:2012-13',\n",
       "       'SEASON_OPPONENT:nop:2004-05', 'SEASON_OPPONENT:nop:2005-06',\n",
       "       'SEASON_OPPONENT:nop:2006-07', 'SEASON_OPPONENT:nop:2014-15',\n",
       "       'SEASON_OPPONENT:nop:2015-16', 'SEASON_OPPONENT:nyk:1996-97',\n",
       "       'SEASON_OPPONENT:nyk:1997-98', 'SEASON_OPPONENT:nyk:1998-99',\n",
       "       'SEASON_OPPONENT:nyk:1999-00', 'SEASON_OPPONENT:nyk:2000-01',\n",
       "       'SEASON_OPPONENT:nyk:2001-02', 'SEASON_OPPONENT:nyk:2002-03',\n",
       "       'SEASON_OPPONENT:nyk:2003-04', 'SEASON_OPPONENT:nyk:2004-05',\n",
       "       'SEASON_OPPONENT:nyk:2005-06', 'SEASON_OPPONENT:nyk:2006-07',\n",
       "       'SEASON_OPPONENT:nyk:2007-08', 'SEASON_OPPONENT:nyk:2008-09',\n",
       "       'SEASON_OPPONENT:nyk:2009-10', 'SEASON_OPPONENT:nyk:2010-11',\n",
       "       'SEASON_OPPONENT:nyk:2011-12', 'SEASON_OPPONENT:nyk:2012-13',\n",
       "       'SEASON_OPPONENT:nyk:2015-16', 'SEASON_OPPONENT:okc:2008-09',\n",
       "       'SEASON_OPPONENT:okc:2009-10', 'SEASON_OPPONENT:okc:2010-11',\n",
       "       'SEASON_OPPONENT:okc:2011-12', 'SEASON_OPPONENT:okc:2012-13',\n",
       "       'SEASON_OPPONENT:okc:2013-14', 'SEASON_OPPONENT:okc:2014-15',\n",
       "       'SEASON_OPPONENT:okc:2015-16', 'SEASON_OPPONENT:orl:1996-97',\n",
       "       'SEASON_OPPONENT:orl:1997-98', 'SEASON_OPPONENT:orl:1998-99',\n",
       "       'SEASON_OPPONENT:orl:1999-00', 'SEASON_OPPONENT:orl:2000-01',\n",
       "       'SEASON_OPPONENT:orl:2001-02', 'SEASON_OPPONENT:orl:2002-03',\n",
       "       'SEASON_OPPONENT:orl:2003-04', 'SEASON_OPPONENT:orl:2004-05',\n",
       "       'SEASON_OPPONENT:orl:2005-06', 'SEASON_OPPONENT:orl:2006-07',\n",
       "       'SEASON_OPPONENT:orl:2007-08', 'SEASON_OPPONENT:orl:2008-09',\n",
       "       'SEASON_OPPONENT:orl:2009-10', 'SEASON_OPPONENT:orl:2010-11',\n",
       "       'SEASON_OPPONENT:orl:2011-12', 'SEASON_OPPONENT:orl:2012-13',\n",
       "       'SEASON_OPPONENT:phi:1996-97', 'SEASON_OPPONENT:phi:1997-98',\n",
       "       'SEASON_OPPONENT:phi:1998-99', 'SEASON_OPPONENT:phi:1999-00',\n",
       "       'SEASON_OPPONENT:phi:2000-01', 'SEASON_OPPONENT:phi:2001-02',\n",
       "       'SEASON_OPPONENT:phi:2002-03', 'SEASON_OPPONENT:phi:2003-04',\n",
       "       'SEASON_OPPONENT:phi:2004-05', 'SEASON_OPPONENT:phi:2005-06',\n",
       "       'SEASON_OPPONENT:phi:2006-07', 'SEASON_OPPONENT:phi:2007-08',\n",
       "       'SEASON_OPPONENT:phi:2008-09', 'SEASON_OPPONENT:phi:2009-10',\n",
       "       'SEASON_OPPONENT:phi:2010-11', 'SEASON_OPPONENT:phi:2011-12',\n",
       "       'SEASON_OPPONENT:phi:2012-13', 'SEASON_OPPONENT:phi:2015-16',\n",
       "       'SEASON_OPPONENT:phx:1996-97', 'SEASON_OPPONENT:phx:1997-98',\n",
       "       'SEASON_OPPONENT:phx:1998-99', 'SEASON_OPPONENT:phx:1999-00',\n",
       "       'SEASON_OPPONENT:phx:2000-01', 'SEASON_OPPONENT:phx:2001-02',\n",
       "       'SEASON_OPPONENT:phx:2002-03', 'SEASON_OPPONENT:phx:2003-04',\n",
       "       'SEASON_OPPONENT:phx:2004-05', 'SEASON_OPPONENT:phx:2005-06',\n",
       "       'SEASON_OPPONENT:phx:2006-07', 'SEASON_OPPONENT:phx:2007-08',\n",
       "       'SEASON_OPPONENT:phx:2008-09', 'SEASON_OPPONENT:phx:2009-10',\n",
       "       'SEASON_OPPONENT:phx:2010-11', 'SEASON_OPPONENT:phx:2011-12',\n",
       "       'SEASON_OPPONENT:phx:2012-13', 'SEASON_OPPONENT:phx:2013-14',\n",
       "       'SEASON_OPPONENT:phx:2014-15', 'SEASON_OPPONENT:phx:2015-16',\n",
       "       'SEASON_OPPONENT:por:1996-97', 'SEASON_OPPONENT:por:1997-98',\n",
       "       'SEASON_OPPONENT:por:1998-99', 'SEASON_OPPONENT:por:1999-00',\n",
       "       'SEASON_OPPONENT:por:2000-01', 'SEASON_OPPONENT:por:2001-02',\n",
       "       'SEASON_OPPONENT:por:2002-03', 'SEASON_OPPONENT:por:2003-04',\n",
       "       'SEASON_OPPONENT:por:2004-05', 'SEASON_OPPONENT:por:2005-06',\n",
       "       'SEASON_OPPONENT:por:2006-07', 'SEASON_OPPONENT:por:2007-08',\n",
       "       'SEASON_OPPONENT:por:2008-09', 'SEASON_OPPONENT:por:2009-10',\n",
       "       'SEASON_OPPONENT:por:2010-11', 'SEASON_OPPONENT:por:2011-12',\n",
       "       'SEASON_OPPONENT:por:2012-13', 'SEASON_OPPONENT:por:2015-16',\n",
       "       'SEASON_OPPONENT:sac:1996-97', 'SEASON_OPPONENT:sac:1997-98',\n",
       "       'SEASON_OPPONENT:sac:1998-99', 'SEASON_OPPONENT:sac:1999-00',\n",
       "       'SEASON_OPPONENT:sac:2000-01', 'SEASON_OPPONENT:sac:2001-02',\n",
       "       'SEASON_OPPONENT:sac:2002-03', 'SEASON_OPPONENT:sac:2003-04',\n",
       "       'SEASON_OPPONENT:sac:2004-05', 'SEASON_OPPONENT:sac:2005-06',\n",
       "       'SEASON_OPPONENT:sac:2006-07', 'SEASON_OPPONENT:sac:2007-08',\n",
       "       'SEASON_OPPONENT:sac:2008-09', 'SEASON_OPPONENT:sac:2009-10',\n",
       "       'SEASON_OPPONENT:sac:2010-11', 'SEASON_OPPONENT:sac:2011-12',\n",
       "       'SEASON_OPPONENT:sac:2012-13', 'SEASON_OPPONENT:sac:2014-15',\n",
       "       'SEASON_OPPONENT:sac:2015-16', 'SEASON_OPPONENT:sas:1996-97',\n",
       "       'SEASON_OPPONENT:sas:1997-98', 'SEASON_OPPONENT:sas:1998-99',\n",
       "       'SEASON_OPPONENT:sas:1999-00', 'SEASON_OPPONENT:sas:2000-01',\n",
       "       'SEASON_OPPONENT:sas:2001-02', 'SEASON_OPPONENT:sas:2002-03',\n",
       "       'SEASON_OPPONENT:sas:2003-04', 'SEASON_OPPONENT:sas:2004-05',\n",
       "       'SEASON_OPPONENT:sas:2005-06', 'SEASON_OPPONENT:sas:2006-07',\n",
       "       'SEASON_OPPONENT:sas:2007-08', 'SEASON_OPPONENT:sas:2008-09',\n",
       "       'SEASON_OPPONENT:sas:2009-10', 'SEASON_OPPONENT:sas:2010-11',\n",
       "       'SEASON_OPPONENT:sas:2011-12', 'SEASON_OPPONENT:sas:2012-13',\n",
       "       'SEASON_OPPONENT:sas:2014-15', 'SEASON_OPPONENT:sas:2015-16',\n",
       "       'SEASON_OPPONENT:sea:1996-97', 'SEASON_OPPONENT:sea:1997-98',\n",
       "       'SEASON_OPPONENT:sea:1998-99', 'SEASON_OPPONENT:sea:1999-00',\n",
       "       'SEASON_OPPONENT:sea:2000-01', 'SEASON_OPPONENT:sea:2001-02',\n",
       "       'SEASON_OPPONENT:sea:2002-03', 'SEASON_OPPONENT:sea:2003-04',\n",
       "       'SEASON_OPPONENT:sea:2004-05', 'SEASON_OPPONENT:sea:2005-06',\n",
       "       'SEASON_OPPONENT:sea:2006-07', 'SEASON_OPPONENT:sea:2007-08',\n",
       "       'SEASON_OPPONENT:tor:1996-97', 'SEASON_OPPONENT:tor:1997-98',\n",
       "       'SEASON_OPPONENT:tor:1999-00', 'SEASON_OPPONENT:tor:2000-01',\n",
       "       'SEASON_OPPONENT:tor:2001-02', 'SEASON_OPPONENT:tor:2002-03',\n",
       "       'SEASON_OPPONENT:tor:2003-04', 'SEASON_OPPONENT:tor:2004-05',\n",
       "       'SEASON_OPPONENT:tor:2005-06', 'SEASON_OPPONENT:tor:2006-07',\n",
       "       'SEASON_OPPONENT:tor:2007-08', 'SEASON_OPPONENT:tor:2008-09',\n",
       "       'SEASON_OPPONENT:tor:2009-10', 'SEASON_OPPONENT:tor:2010-11',\n",
       "       'SEASON_OPPONENT:tor:2011-12', 'SEASON_OPPONENT:tor:2012-13',\n",
       "       'SEASON_OPPONENT:tor:2013-14', 'SEASON_OPPONENT:tor:2014-15',\n",
       "       'SEASON_OPPONENT:tor:2015-16', 'SEASON_OPPONENT:uta:1996-97',\n",
       "       'SEASON_OPPONENT:uta:1997-98', 'SEASON_OPPONENT:uta:1998-99',\n",
       "       'SEASON_OPPONENT:uta:1999-00', 'SEASON_OPPONENT:uta:2000-01',\n",
       "       'SEASON_OPPONENT:uta:2001-02', 'SEASON_OPPONENT:uta:2002-03',\n",
       "       'SEASON_OPPONENT:uta:2003-04', 'SEASON_OPPONENT:uta:2004-05',\n",
       "       'SEASON_OPPONENT:uta:2005-06', 'SEASON_OPPONENT:uta:2006-07',\n",
       "       'SEASON_OPPONENT:uta:2007-08', 'SEASON_OPPONENT:uta:2008-09',\n",
       "       'SEASON_OPPONENT:uta:2009-10', 'SEASON_OPPONENT:uta:2010-11',\n",
       "       'SEASON_OPPONENT:uta:2011-12', 'SEASON_OPPONENT:uta:2012-13',\n",
       "       'SEASON_OPPONENT:uta:2015-16', 'SEASON_OPPONENT:van:1996-97',\n",
       "       'SEASON_OPPONENT:van:1997-98', 'SEASON_OPPONENT:van:1998-99',\n",
       "       'SEASON_OPPONENT:van:1999-00', 'SEASON_OPPONENT:van:2000-01',\n",
       "       'SEASON_OPPONENT:was:1996-97', 'SEASON_OPPONENT:was:1997-98',\n",
       "       'SEASON_OPPONENT:was:1999-00', 'SEASON_OPPONENT:was:2000-01',\n",
       "       'SEASON_OPPONENT:was:2001-02', 'SEASON_OPPONENT:was:2002-03',\n",
       "       'SEASON_OPPONENT:was:2003-04', 'SEASON_OPPONENT:was:2004-05',\n",
       "       'SEASON_OPPONENT:was:2005-06', 'SEASON_OPPONENT:was:2006-07',\n",
       "       'SEASON_OPPONENT:was:2007-08', 'SEASON_OPPONENT:was:2008-09',\n",
       "       'SEASON_OPPONENT:was:2009-10', 'SEASON_OPPONENT:was:2010-11',\n",
       "       'SEASON_OPPONENT:was:2011-12', 'SEASON_OPPONENT:was:2012-13',\n",
       "       'SEASON_OPPONENT:was:2014-15', 'SEASON_OPPONENT:was:2015-16',\n",
       "       'SEASON:1996-97', 'SEASON:1997-98', 'SEASON:1998-99',\n",
       "       'SEASON:1999-00', 'SEASON:2000-01', 'SEASON:2001-02',\n",
       "       'SEASON:2002-03', 'SEASON:2003-04', 'SEASON:2004-05',\n",
       "       'SEASON:2005-06', 'SEASON:2006-07', 'SEASON:2007-08',\n",
       "       'SEASON:2008-09', 'SEASON:2009-10', 'SEASON:2010-11',\n",
       "       'SEASON:2011-12', 'SEASON:2012-13', 'SEASON:2013-14',\n",
       "       'SEASON:2014-15', 'SEASON:2015-16', 'MONTH', 'PLAYOFFS',\n",
       "       'MEAN_X_POSITION', 'MEAN_Y_POSITION', 'MEAN_SHOT_DISTANCE',\n",
       "       'MEAN_SHOT_ANGLE', 'SHOT_ZONE_RANGE:16-24_ft.',\n",
       "       'SHOT_ZONE_RANGE:24+_ft.', 'SHOT_ZONE_RANGE:8-16_ft.',\n",
       "       'SHOT_ZONE_RANGE:back_court_shot',\n",
       "       'SHOT_ZONE_RANGE:less_than_8_ft.',\n",
       "       'SHOT_ZONE_BASIC:above_the_break_3', 'SHOT_ZONE_BASIC:backcourt',\n",
       "       'SHOT_ZONE_BASIC:in_the_paint_(non-ra)',\n",
       "       'SHOT_ZONE_BASIC:left_corner_3', 'SHOT_ZONE_BASIC:mid-range',\n",
       "       'SHOT_ZONE_BASIC:restricted_area', 'SHOT_ZONE_BASIC:right_corner_3',\n",
       "       'SHOT_ZONE_AREA:back_court(bc)', 'SHOT_ZONE_AREA:center(c)',\n",
       "       'SHOT_ZONE_AREA:left_side_center(lc)',\n",
       "       'SHOT_ZONE_AREA:left_side(l)',\n",
       "       'SHOT_ZONE_AREA:right_side_center(rc)',\n",
       "       'SHOT_ZONE_AREA:right_side(r)', 'SHOT_TYPE:2pt_field_goal',\n",
       "       'SHOT_TYPE:3pt_field_goal', 'COMBINED_SHOT_TYPE:bank_shot',\n",
       "       'COMBINED_SHOT_TYPE:dunk', 'COMBINED_SHOT_TYPE:hook_shot',\n",
       "       'COMBINED_SHOT_TYPE:jump_shot', 'COMBINED_SHOT_TYPE:layup',\n",
       "       'COMBINED_SHOT_TYPE:tip_shot', 'SECONDS_REMAINING',\n",
       "       'MINUTES_REMAINING', 'PERIOD', 'ACTION_TYPE:alley_oop_dunk_shot',\n",
       "       'ACTION_TYPE:alley_oop_layup_shot',\n",
       "       'ACTION_TYPE:cutting_finger_roll_layup_shot',\n",
       "       'ACTION_TYPE:cutting_layup_shot', 'ACTION_TYPE:driving_bank_shot',\n",
       "       'ACTION_TYPE:driving_dunk_shot',\n",
       "       'ACTION_TYPE:driving_finger_roll_layup_shot',\n",
       "       'ACTION_TYPE:driving_finger_roll_shot',\n",
       "       'ACTION_TYPE:driving_floating_bank_jump_shot',\n",
       "       'ACTION_TYPE:driving_floating_jump_shot',\n",
       "       'ACTION_TYPE:driving_hook_shot', 'ACTION_TYPE:driving_jump_shot',\n",
       "       'ACTION_TYPE:driving_layup_shot',\n",
       "       'ACTION_TYPE:driving_reverse_layup_shot',\n",
       "       'ACTION_TYPE:driving_slam_dunk_shot', 'ACTION_TYPE:dunk_shot',\n",
       "       'ACTION_TYPE:fadeaway_bank_shot', 'ACTION_TYPE:fadeaway_jump_shot',\n",
       "       'ACTION_TYPE:finger_roll_layup_shot',\n",
       "       'ACTION_TYPE:finger_roll_shot', 'ACTION_TYPE:floating_jump_shot',\n",
       "       'ACTION_TYPE:follow_up_dunk_shot', 'ACTION_TYPE:hook_bank_shot',\n",
       "       'ACTION_TYPE:hook_shot', 'ACTION_TYPE:jump_bank_shot',\n",
       "       'ACTION_TYPE:jump_hook_shot', 'ACTION_TYPE:jump_shot',\n",
       "       'ACTION_TYPE:layup_shot', 'ACTION_TYPE:pullup_bank_shot',\n",
       "       'ACTION_TYPE:pullup_jump_shot', 'ACTION_TYPE:putback_dunk_shot',\n",
       "       'ACTION_TYPE:putback_layup_shot',\n",
       "       'ACTION_TYPE:putback_slam_dunk_shot',\n",
       "       'ACTION_TYPE:reverse_dunk_shot', 'ACTION_TYPE:reverse_layup_shot',\n",
       "       'ACTION_TYPE:reverse_slam_dunk_shot',\n",
       "       'ACTION_TYPE:running_bank_shot', 'ACTION_TYPE:running_dunk_shot',\n",
       "       'ACTION_TYPE:running_finger_roll_layup_shot',\n",
       "       'ACTION_TYPE:running_finger_roll_shot',\n",
       "       'ACTION_TYPE:running_hook_shot', 'ACTION_TYPE:running_jump_shot',\n",
       "       'ACTION_TYPE:running_layup_shot',\n",
       "       'ACTION_TYPE:running_pull-up_jump_shot',\n",
       "       'ACTION_TYPE:running_reverse_layup_shot',\n",
       "       'ACTION_TYPE:running_slam_dunk_shot',\n",
       "       'ACTION_TYPE:running_tip_shot', 'ACTION_TYPE:slam_dunk_shot',\n",
       "       'ACTION_TYPE:step_back_jump_shot', 'ACTION_TYPE:tip_layup_shot',\n",
       "       'ACTION_TYPE:tip_shot', 'ACTION_TYPE:turnaround_bank_shot',\n",
       "       'ACTION_TYPE:turnaround_fadeaway_bank_jump_shot',\n",
       "       'ACTION_TYPE:turnaround_fadeaway_shot',\n",
       "       'ACTION_TYPE:turnaround_finger_roll_shot',\n",
       "       'ACTION_TYPE:turnaround_hook_shot',\n",
       "       'ACTION_TYPE:turnaround_jump_shot', 'SEASON_GAME_NUMBER',\n",
       "       'CAREER_GAME_NUMBER'], dtype=object)"
      ]
     },
     "execution_count": 20,
     "metadata": {},
     "output_type": "execute_result"
    }
   ],
   "source": [
    "# A:\n",
    "kobe.columns.values"
   ]
  },
  {
   "cell_type": "code",
   "execution_count": 18,
   "metadata": {
    "collapsed": true
   },
   "outputs": [
    {
     "data": {
      "text/plain": [
       "645"
      ]
     },
     "execution_count": 18,
     "metadata": {},
     "output_type": "execute_result"
    }
   ],
   "source": [
    "len(kobe.columns)"
   ]
  },
  {
   "cell_type": "code",
   "execution_count": 16,
   "metadata": {
    "collapsed": true
   },
   "outputs": [],
   "source": [
    "# Data regularization would be good for this dataset because there are so many columns/categories to choose from"
   ]
  },
  {
   "cell_type": "code",
   "execution_count": null,
   "metadata": {
    "collapsed": true
   },
   "outputs": [],
   "source": [
    "# SHOTS_MADE\n",
    "# SHOT_TYPE:2pt_field_goal\n",
    "# SHOT_TYPE:3pt_field_goal"
   ]
  },
  {
   "cell_type": "markdown",
   "metadata": {},
   "source": [
    "---\n",
    "\n",
    "### 3. Make predictor and target variables. Standardize the predictors.\n",
    "\n",
    "Why is normalization necessary for regularized regressions?\n",
    "\n",
    "Use the `sklearn.preprocessing` class `StandardScaler` to standardize the predictors."
   ]
  },
  {
   "cell_type": "code",
   "execution_count": 27,
   "metadata": {
    "collapsed": true
   },
   "outputs": [],
   "source": [
    "# A:\n",
    "\n",
    "# Predictor X to include all columns except SHOTS_MADE; y is the target value of SHOTS_MADE\n",
    "X = kobe.iloc[:,1:]\n",
    "y = kobe.SHOTS_MADE.values\n",
    "\n",
    "# Import Standard Scaler to begin standardizing features\n",
    "from sklearn.preprocessing import StandardScaler\n",
    "\n",
    "ss = StandardScaler()\n",
    "\n",
    "# Use ss.fit_transform to standarize the values of X\n",
    "Xss = ss.fit_transform(X)"
   ]
  },
  {
   "cell_type": "code",
   "execution_count": null,
   "metadata": {
    "collapsed": true
   },
   "outputs": [],
   "source": [
    "# Normalization is necessary for the regularized regressions because the predictor variable values and the beta values\n",
    "# have to be evaluated on the same scale. "
   ]
  },
  {
   "cell_type": "markdown",
   "metadata": {},
   "source": [
    "---\n",
    "\n",
    "### 4. Build a linear regression predicting `SHOTS_MADE` from the rest of the columns.\n",
    "\n",
    "Cross-validate the $R^2$ of an ordinary linear regression model with 10 cross-validation folds.\n",
    "\n",
    "How does it perform?"
   ]
  },
  {
   "cell_type": "code",
   "execution_count": 28,
   "metadata": {},
   "outputs": [
    {
     "name": "stdout",
     "output_type": "stream",
     "text": [
      "[ -1.43172380e+29  -2.53227878e+28  -3.33960462e+28  -2.62514467e+27\n",
      "  -7.22387152e+27  -4.69173665e+27  -3.73187309e+27  -2.33035638e+27\n",
      "  -5.25889200e+27  -5.29863145e+28]\n",
      "-2.80739402702e+28\n"
     ]
    }
   ],
   "source": [
    "# A:\n",
    "linreg = LinearRegression()\n",
    "\n",
    "linreg_scores = cross_val_score(linreg, Xss, y, cv=10)\n",
    "\n",
    "print linreg_scores\n",
    "print np.mean(linreg_scores)"
   ]
  },
  {
   "cell_type": "markdown",
   "metadata": {},
   "source": [
    "---\n",
    "\n",
    "### 5. Find an optimal value for Ridge regression alpha using `RidgeCV`.\n",
    "\n",
    "[Go to the documentation and read how RidgeCV works.](http://scikit-learn.org/stable/modules/generated/sklearn.linear_model.RidgeCV.html)\n",
    "\n",
    "> *Hint: once the RidgeCV is fit, the attribute `.alpha_` contains the best alpha parameter it found through cross-validation.*\n",
    "\n",
    "Recall that Ridge performs best searching alphas through logarithmic space (`np.logspace`). This may take awhile to fit!\n"
   ]
  },
  {
   "cell_type": "code",
   "execution_count": 29,
   "metadata": {},
   "outputs": [
    {
     "name": "stdout",
     "output_type": "stream",
     "text": [
      "775.259748863\n"
     ]
    }
   ],
   "source": [
    "# A:\n",
    "ridge_alphas = np.logspace(0, 5, 200)\n",
    "\n",
    "optimal_ridge = RidgeCV(alphas = ridge_alphas, cv=10)\n",
    "\n",
    "optimal_ridge.fit(Xss, y)\n",
    "\n",
    "print optimal_ridge.alpha_"
   ]
  },
  {
   "cell_type": "markdown",
   "metadata": {},
   "source": [
    "---\n",
    "\n",
    "### 6. Cross-validate the Ridge regression $R^2$ with the optimal alpha.\n",
    "\n",
    "Is it better than the Linear regression? If so, why might this be?"
   ]
  },
  {
   "cell_type": "code",
   "execution_count": 31,
   "metadata": {},
   "outputs": [
    {
     "name": "stdout",
     "output_type": "stream",
     "text": [
      "[ 0.5822626   0.52880462  0.4869004   0.59583817  0.52396335  0.52942952\n",
      "  0.52842192  0.41153448  0.39857643  0.44489752]\n",
      "0.503062899682\n"
     ]
    }
   ],
   "source": [
    "# A:\n",
    "ridge = Ridge(alpha = optimal_ridge.alpha_)\n",
    "\n",
    "ridge_scores = cross_val_score(ridge, Xss, y, cv = 10)\n",
    "\n",
    "print ridge_scores\n",
    "print np.mean(ridge_scores)"
   ]
  },
  {
   "cell_type": "markdown",
   "metadata": {},
   "source": [
    "---\n",
    "\n",
    "### 7. Find an optimal value for Lasso regression alpha using `LassoCV`.\n",
    "\n",
    "[Go to the documentation and read how LassoCV works.](http://scikit-learn.org/stable/modules/generated/sklearn.linear_model.LassoCV.html) It is very similar to `RidgeCV`.\n",
    "\n",
    "> *Hint: again, once the `LassoCV` is fit, the attribute `.alpha_` contains the best alpha parameter it found through cross-validation.*\n",
    "\n",
    "Recall that Lasso, unlike Ridge, performs best searching for alpha through linear space (`np.linspace`). However, you can actually let the LassoCV decide itself what alphas to use by instead setting the keyword argument `n_alphas=` to however many alphas you want it to search over. It is recommended to let sklearn choose the range of alphas."
   ]
  },
  {
   "cell_type": "code",
   "execution_count": 8,
   "metadata": {
    "collapsed": true
   },
   "outputs": [],
   "source": [
    "# A:\n",
    "optimal_lasso = LassoCV(n_alphas=500, cv=10, verbose=1)\n",
    "optimal_lasso.fit(Xs, y)\n",
    "\n",
    "print optimal_lasso.alpha_"
   ]
  },
  {
   "cell_type": "markdown",
   "metadata": {},
   "source": [
    "---\n",
    "\n",
    "### 8. Cross-validate the Lasso $R^2$ with the optimal alpha.\n",
    "\n",
    "Is it better than the Linear regression? Is it better than Ridge? What do the differences in results imply about the issues with the dataset?"
   ]
  },
  {
   "cell_type": "code",
   "execution_count": 9,
   "metadata": {
    "collapsed": true
   },
   "outputs": [],
   "source": [
    "# A:\n",
    "lasso = Lasso(alpha=optimal_lasso.alpha_)\n",
    "\n",
    "lasso_scores = cross_val_score(lasso, Xs, y, cv=10)\n",
    "\n",
    "print lasso_scores\n",
    "print np.mean(lasso_scores)"
   ]
  },
  {
   "cell_type": "markdown",
   "metadata": {},
   "source": [
    "---\n",
    "\n",
    "### 9. Look at the coefficients for variables in the Lasso.\n",
    "\n",
    "1. Show the coefficient for variables, ordered from largest to smallest coefficient by absolute value.\n",
    "2. What percent of the variables in the original dataset are \"zeroed-out\" by the lasso?\n",
    "3. What are the most important predictors for how many shots Kobe made in a game?\n",
    "\n",
    "> **Note:** if you only fit the Lasso within `cross_val_score`, you will have to refit it outside of that\n",
    "function to pull out the coefficients."
   ]
  },
  {
   "cell_type": "code",
   "execution_count": 10,
   "metadata": {
    "collapsed": true
   },
   "outputs": [],
   "source": [
    "# A:"
   ]
  },
  {
   "cell_type": "markdown",
   "metadata": {},
   "source": [
    "---\n",
    "\n",
    "### 10. Find an optimal value for Elastic Net regression alpha using `ElasticNetCV`.\n",
    "\n",
    "[Go to the documentation and read how LassoCV works.](http://scikit-learn.org/stable/modules/generated/sklearn.linear_model.ElasticNetCV.html).\n",
    "\n",
    "Note here that you will be optimizing both the alpha parameter and the l1_ratio:\n",
    "- `alpha`: strength of regularization\n",
    "- `l1_ratio`: amount of ridge vs. lasso (0 = all ridge, 1 = all lasso)\n",
    "    \n",
    "Do not include 0 in the search for `l1_ratio`: it will not allow it and break!\n",
    "\n",
    "You can use `n_alphas` for the alpha parameters instead of setting your own values: highly recommended!\n",
    "\n",
    "Also - be careful setting too many l1_ratios over cross-validation folds in your search. It can take a very long time if you choose too many combinations and for the most part there are diminishing returns in this data."
   ]
  },
  {
   "cell_type": "code",
   "execution_count": 11,
   "metadata": {
    "collapsed": true
   },
   "outputs": [],
   "source": [
    "# A:"
   ]
  },
  {
   "cell_type": "markdown",
   "metadata": {},
   "source": [
    "---\n",
    "\n",
    "### 11. Cross-validate the ElasticNet $R^2$ with the optimal alpha and l1_ratio.\n",
    "\n",
    "How does it compare to the Ridge and Lasso regularized regressions?"
   ]
  },
  {
   "cell_type": "code",
   "execution_count": 12,
   "metadata": {
    "collapsed": true
   },
   "outputs": [],
   "source": [
    "# A:"
   ]
  },
  {
   "cell_type": "markdown",
   "metadata": {},
   "source": [
    "---\n",
    "\n",
    "### 12. [Bonus] Compare the residuals for the Ridge and Lasso visually.\n"
   ]
  },
  {
   "cell_type": "code",
   "execution_count": 13,
   "metadata": {
    "collapsed": true
   },
   "outputs": [],
   "source": [
    "# A:"
   ]
  }
 ],
 "metadata": {
  "kernelspec": {
   "display_name": "Python 2",
   "language": "python",
   "name": "python2"
  },
  "language_info": {
   "codemirror_mode": {
    "name": "ipython",
    "version": 2
   },
   "file_extension": ".py",
   "mimetype": "text/x-python",
   "name": "python",
   "nbconvert_exporter": "python",
   "pygments_lexer": "ipython2",
   "version": "2.7.13"
  }
 },
 "nbformat": 4,
 "nbformat_minor": 1
}
