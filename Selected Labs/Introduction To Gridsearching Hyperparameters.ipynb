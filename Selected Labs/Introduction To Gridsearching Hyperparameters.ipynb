{
 "cells": [
  {
   "cell_type": "markdown",
   "metadata": {},
   "source": [
    "<img src=\"http://imgur.com/1ZcRyrc.png\" style=\"float: left; margin: 20px; height: 55px\">\n",
    "\n",
    "# Introduction to Gridsearching Hyperparameters\n",
    "\n",
    "_Authors: Kiefer Katovich (SF), David Yerrington (SF)_\n",
    "\n",
    "---\n",
    "\n",
    "![](https://snag.gy/aYcCt2.jpg)\n",
    "\n",
    "### Learning Objective\n",
    "- Understand what the terms gridsearch and hyperparameter refer to.\n",
    "- Understand how to manually build a gridsearching procedure.\n",
    "- Apply sklearn's `GridSearchCV` object with basketball data to optimize a KNN model.\n",
    "- Practice using and evaluating attributes of the gridsearch object.\n",
    "- Understand the pitfalls of searching large hyperparameter spaces.\n",
    "- Practice the gridsearch procedure independently optimizing regularized logistic regression."
   ]
  },
  {
   "cell_type": "markdown",
   "metadata": {},
   "source": [
    "### Lesson Guide\n",
    "- [What is \"Gridsearching\"? What are \"hyperparameters\"?](#intro)\n",
    "- [Basketball data](#basketball-data)\n",
    "- [Fitting a default KNN](#fit-knn)\n",
    "- [Searching for the best hyperparameters](#searching)\n",
    "    - [Gridsearch pseudocode](#pseudocode)\n",
    "    - [Using `GridSearchCV`](#gscv)\n",
    "- [A caution on gridsearching](#caution)\n",
    "- [Independent practice: gridsearching regularization penalties with logistic regression](#practice)"
   ]
  },
  {
   "cell_type": "code",
   "execution_count": 1,
   "metadata": {
    "collapsed": true
   },
   "outputs": [],
   "source": [
    "import matplotlib.pyplot as plt\n",
    "import numpy as np\n",
    "import pandas as pd\n",
    "\n",
    "import seaborn as sns\n",
    "\n",
    "plt.style.use('fivethirtyeight')\n",
    "\n",
    "%matplotlib inline\n",
    "%config InlineBackend.figure_format = 'retina'"
   ]
  },
  {
   "cell_type": "markdown",
   "metadata": {},
   "source": [
    "<a id='intro'></a>\n",
    "\n",
    "## What is \"Gridsearching\"? What are \"hyperparameters\"?\n",
    "\n",
    "---\n",
    "\n",
    "Models often have specifications that can be set. For example, when we choose a linear regression, we may decide to add a penalty to the loss function such as the Ridge or the Lasso. Those penalties require the regularization strength, alpha, to be set. \n",
    "\n",
    "**Model parameters are called hyperparameters.**\n",
    "\n",
    "Hyperparameters are different than the parameters of the model resulting from a fit, such as the coefficients. The hyperparameters are set prior to the fit and determine the behavior of the model.\n",
    "\n",
    "There are often more than one kind of hyperparamter to set for a model. For example, in the KNN algorithm, we have a hyperparameter to set the number of neighbors. We also have a hyperparameter for the weights: uniform or distance? We want to know the *optimal* hyperparameter settings, the set that results in the best model evaluation. \n",
    "\n",
    "**The search for the optimal set of hyperparameters is called gridsearching.**\n",
    "\n",
    "Gridsearching gets its name from the fact that we are searching over a \"grid\" of parameters. For example, imagine the `n_neighbors` hyperparameters on the x-axis and `weights` on the y-axis, and we need to test all points on the grid.\n",
    "\n",
    "**Gridsearching uses cross-validation internally to evaluate the performance of each set of hyperparameters.** More on this later."
   ]
  },
  {
   "cell_type": "markdown",
   "metadata": {},
   "source": [
    "<a id='basketball-data'></a>\n",
    "\n",
    "## Basketball data\n",
    "\n",
    "---\n",
    "\n",
    "To explore the process of gridsearching over sets of hyperparameters, we will use some basketball data. The data below has statistics for 4 different seasons of NBA basketball: 2013-2016.\n",
    "- This data includes aggregate statistical data for each game. \n",
    "- The data of each game is aggregated by match for all players.\n",
    "- Scraped from http://www.basketball-refrence.com\n",
    "\n",
    "Many of the columns in the dataset represent the mean of a statistic across the last 10 games, for example. Non-target statistics are for *prior* games, they do not include information about player performance in the current game.\n",
    "\n",
    "**We are interested in predicting whether the home team will win the game or not.** This is a classification problem.\n",
    "\n",
    "\n",
    "### Load the data and create the target and predictor matrix\n",
    "- The target will be a binary column of whether the home team wins.\n",
    "- The predictors should be numeric statistics columns.\n",
    "\n",
    "Exclude these columns from the predictor matrix:\n",
    "\n",
    "    ['GameId','GameDate','GameTime','HostName',\n",
    "     'GuestName','total_score','total_line','game_line',\n",
    "     'winner','loser','host_wins','Season']\n"
   ]
  },
  {
   "cell_type": "code",
   "execution_count": 3,
   "metadata": {
    "collapsed": true
   },
   "outputs": [],
   "source": [
    "data = pd.read_csv('./datasets/basketball_data.csv')"
   ]
  },
  {
   "cell_type": "code",
   "execution_count": 4,
   "metadata": {},
   "outputs": [
    {
     "data": {
      "text/html": [
       "<div>\n",
       "<style>\n",
       "    .dataframe thead tr:only-child th {\n",
       "        text-align: right;\n",
       "    }\n",
       "\n",
       "    .dataframe thead th {\n",
       "        text-align: left;\n",
       "    }\n",
       "\n",
       "    .dataframe tbody tr th {\n",
       "        vertical-align: top;\n",
       "    }\n",
       "</style>\n",
       "<table border=\"1\" class=\"dataframe\">\n",
       "  <thead>\n",
       "    <tr style=\"text-align: right;\">\n",
       "      <th></th>\n",
       "      <th>Season</th>\n",
       "      <th>GameId</th>\n",
       "      <th>GameDate</th>\n",
       "      <th>GameTime</th>\n",
       "      <th>HostName</th>\n",
       "      <th>GuestName</th>\n",
       "      <th>total_score</th>\n",
       "      <th>total_line</th>\n",
       "      <th>game_line</th>\n",
       "      <th>Host_HostRank</th>\n",
       "      <th>...</th>\n",
       "      <th>gPTS_avg10</th>\n",
       "      <th>gTS%_avg10</th>\n",
       "      <th>g3PAR_avg10</th>\n",
       "      <th>gFTr_avg10</th>\n",
       "      <th>gDRB%_avg10</th>\n",
       "      <th>gTRB%_avg10</th>\n",
       "      <th>gAST%_avg10</th>\n",
       "      <th>gSTL%_avg10</th>\n",
       "      <th>gBLK%_avg10</th>\n",
       "      <th>gDRtg_avg10</th>\n",
       "    </tr>\n",
       "  </thead>\n",
       "  <tbody>\n",
       "    <tr>\n",
       "      <th>0</th>\n",
       "      <td>2013</td>\n",
       "      <td>201212090LAL</td>\n",
       "      <td>2012-12-09</td>\n",
       "      <td>6:30 pm</td>\n",
       "      <td>Los Angeles Lakers</td>\n",
       "      <td>Utah Jazz</td>\n",
       "      <td>227.0</td>\n",
       "      <td>207.5</td>\n",
       "      <td>7.5</td>\n",
       "      <td>13</td>\n",
       "      <td>...</td>\n",
       "      <td>99.0</td>\n",
       "      <td>0.5206</td>\n",
       "      <td>0.2230</td>\n",
       "      <td>0.2981</td>\n",
       "      <td>69.22</td>\n",
       "      <td>50.05</td>\n",
       "      <td>61.57</td>\n",
       "      <td>8.63</td>\n",
       "      <td>10.31</td>\n",
       "      <td>110.87</td>\n",
       "    </tr>\n",
       "    <tr>\n",
       "      <th>1</th>\n",
       "      <td>2013</td>\n",
       "      <td>201212100PHI</td>\n",
       "      <td>2012-12-10</td>\n",
       "      <td>7:00 pm</td>\n",
       "      <td>Philadelphia 76ers</td>\n",
       "      <td>Detroit Pistons</td>\n",
       "      <td>201.0</td>\n",
       "      <td>186.5</td>\n",
       "      <td>5.5</td>\n",
       "      <td>13</td>\n",
       "      <td>...</td>\n",
       "      <td>90.3</td>\n",
       "      <td>0.5077</td>\n",
       "      <td>0.2144</td>\n",
       "      <td>0.3095</td>\n",
       "      <td>71.46</td>\n",
       "      <td>49.48</td>\n",
       "      <td>59.83</td>\n",
       "      <td>6.48</td>\n",
       "      <td>9.46</td>\n",
       "      <td>107.91</td>\n",
       "    </tr>\n",
       "    <tr>\n",
       "      <th>2</th>\n",
       "      <td>2013</td>\n",
       "      <td>201212100HOU</td>\n",
       "      <td>2012-12-10</td>\n",
       "      <td>7:00 pm</td>\n",
       "      <td>Houston Rockets</td>\n",
       "      <td>San Antonio Spurs</td>\n",
       "      <td>240.0</td>\n",
       "      <td>212.0</td>\n",
       "      <td>-7.0</td>\n",
       "      <td>12</td>\n",
       "      <td>...</td>\n",
       "      <td>108.0</td>\n",
       "      <td>0.5915</td>\n",
       "      <td>0.2743</td>\n",
       "      <td>0.2518</td>\n",
       "      <td>74.26</td>\n",
       "      <td>50.99</td>\n",
       "      <td>61.82</td>\n",
       "      <td>8.30</td>\n",
       "      <td>6.85</td>\n",
       "      <td>101.41</td>\n",
       "    </tr>\n",
       "    <tr>\n",
       "      <th>3</th>\n",
       "      <td>2013</td>\n",
       "      <td>201212110BRK</td>\n",
       "      <td>2012-12-11</td>\n",
       "      <td>7:00 pm</td>\n",
       "      <td>Brooklyn Nets</td>\n",
       "      <td>New York Knicks</td>\n",
       "      <td>197.0</td>\n",
       "      <td>195.5</td>\n",
       "      <td>-3.5</td>\n",
       "      <td>12</td>\n",
       "      <td>...</td>\n",
       "      <td>100.3</td>\n",
       "      <td>0.5473</td>\n",
       "      <td>0.3595</td>\n",
       "      <td>0.2544</td>\n",
       "      <td>74.23</td>\n",
       "      <td>47.88</td>\n",
       "      <td>52.07</td>\n",
       "      <td>9.31</td>\n",
       "      <td>7.64</td>\n",
       "      <td>109.24</td>\n",
       "    </tr>\n",
       "    <tr>\n",
       "      <th>4</th>\n",
       "      <td>2013</td>\n",
       "      <td>201212110DET</td>\n",
       "      <td>2012-12-11</td>\n",
       "      <td>7:30 pm</td>\n",
       "      <td>Detroit Pistons</td>\n",
       "      <td>Denver Nuggets</td>\n",
       "      <td>195.0</td>\n",
       "      <td>203.5</td>\n",
       "      <td>-4.5</td>\n",
       "      <td>11</td>\n",
       "      <td>...</td>\n",
       "      <td>101.1</td>\n",
       "      <td>0.5605</td>\n",
       "      <td>0.2173</td>\n",
       "      <td>0.3177</td>\n",
       "      <td>68.45</td>\n",
       "      <td>50.40</td>\n",
       "      <td>56.33</td>\n",
       "      <td>7.67</td>\n",
       "      <td>7.83</td>\n",
       "      <td>114.86</td>\n",
       "    </tr>\n",
       "  </tbody>\n",
       "</table>\n",
       "<p>5 rows × 96 columns</p>\n",
       "</div>"
      ],
      "text/plain": [
       "   Season        GameId    GameDate GameTime            HostName  \\\n",
       "0    2013  201212090LAL  2012-12-09  6:30 pm  Los Angeles Lakers   \n",
       "1    2013  201212100PHI  2012-12-10  7:00 pm  Philadelphia 76ers   \n",
       "2    2013  201212100HOU  2012-12-10  7:00 pm     Houston Rockets   \n",
       "3    2013  201212110BRK  2012-12-11  7:00 pm       Brooklyn Nets   \n",
       "4    2013  201212110DET  2012-12-11  7:30 pm     Detroit Pistons   \n",
       "\n",
       "           GuestName  total_score  total_line  game_line  Host_HostRank  \\\n",
       "0          Utah Jazz        227.0       207.5        7.5             13   \n",
       "1    Detroit Pistons        201.0       186.5        5.5             13   \n",
       "2  San Antonio Spurs        240.0       212.0       -7.0             12   \n",
       "3    New York Knicks        197.0       195.5       -3.5             12   \n",
       "4     Denver Nuggets        195.0       203.5       -4.5             11   \n",
       "\n",
       "      ...      gPTS_avg10  gTS%_avg10  g3PAR_avg10  gFTr_avg10  gDRB%_avg10  \\\n",
       "0     ...            99.0      0.5206       0.2230      0.2981        69.22   \n",
       "1     ...            90.3      0.5077       0.2144      0.3095        71.46   \n",
       "2     ...           108.0      0.5915       0.2743      0.2518        74.26   \n",
       "3     ...           100.3      0.5473       0.3595      0.2544        74.23   \n",
       "4     ...           101.1      0.5605       0.2173      0.3177        68.45   \n",
       "\n",
       "   gTRB%_avg10  gAST%_avg10  gSTL%_avg10 gBLK%_avg10 gDRtg_avg10  \n",
       "0        50.05        61.57         8.63       10.31      110.87  \n",
       "1        49.48        59.83         6.48        9.46      107.91  \n",
       "2        50.99        61.82         8.30        6.85      101.41  \n",
       "3        47.88        52.07         9.31        7.64      109.24  \n",
       "4        50.40        56.33         7.67        7.83      114.86  \n",
       "\n",
       "[5 rows x 96 columns]"
      ]
     },
     "execution_count": 4,
     "metadata": {},
     "output_type": "execute_result"
    }
   ],
   "source": [
    "# A:\n",
    "data.head()"
   ]
  },
  {
   "cell_type": "code",
   "execution_count": 6,
   "metadata": {},
   "outputs": [
    {
     "data": {
      "text/plain": [
       "(3768, 96)"
      ]
     },
     "execution_count": 6,
     "metadata": {},
     "output_type": "execute_result"
    }
   ],
   "source": [
    "data.shape"
   ]
  },
  {
   "cell_type": "code",
   "execution_count": 14,
   "metadata": {},
   "outputs": [
    {
     "data": {
      "text/plain": [
       "Index([u'Season', u'GameId', u'GameDate', u'GameTime', u'HostName',\n",
       "       u'GuestName', u'total_score', u'total_line', u'game_line',\n",
       "       u'Host_HostRank', u'Host_GameRank', u'Guest_GuestRank',\n",
       "       u'Guest_GameRank', u'host_win_count', u'host_lose_count',\n",
       "       u'guest_win_count', u'guest_lose_count', u'game_behind', u'winner',\n",
       "       u'loser', u'host_place_streak', u'guest_place_streak', u'hq1_avg10',\n",
       "       u'hq2_avg10', u'hq3_avg10', u'hq4_avg10', u'hPace_avg10',\n",
       "       u'heFG%_avg10', u'hTOV%_avg10', u'hORB%_avg10', u'hFT/FGA_avg10',\n",
       "       u'hORtg_avg10', u'hFG_avg10', u'hFGA_avg10', u'hFG%_avg10',\n",
       "       u'h3P_avg10', u'h3PA_avg10', u'h3P%_avg10', u'hFT_avg10', u'hFTA_avg10',\n",
       "       u'hFT%_avg10', u'hORB_avg10', u'hDRB_avg10', u'hTRB_avg10',\n",
       "       u'hAST_avg10', u'hSTL_avg10', u'hBLK_avg10', u'hTOV_avg10',\n",
       "       u'hPF_avg10', u'hPTS_avg10', u'hTS%_avg10', u'h3PAR_avg10',\n",
       "       u'hFTr_avg10', u'hDRB%_avg10', u'hTRB%_avg10', u'hAST%_avg10',\n",
       "       u'hSTL%_avg10', u'hBLK%_avg10', u'hDRtg_avg10', u'gq1_avg10',\n",
       "       u'gq2_avg10', u'gq3_avg10', u'gq4_avg10', u'gPace_avg10',\n",
       "       u'geFG%_avg10', u'gTOV%_avg10', u'gORB%_avg10', u'gFT/FGA_avg10',\n",
       "       u'gORtg_avg10', u'gFG_avg10', u'gFGA_avg10', u'gFG%_avg10',\n",
       "       u'g3P_avg10', u'g3PA_avg10', u'g3P%_avg10', u'gFT_avg10', u'gFTA_avg10',\n",
       "       u'gFT%_avg10', u'gORB_avg10', u'gDRB_avg10', u'gTRB_avg10',\n",
       "       u'gAST_avg10', u'gSTL_avg10', u'gBLK_avg10', u'gTOV_avg10',\n",
       "       u'gPF_avg10', u'gPTS_avg10', u'gTS%_avg10', u'g3PAR_avg10',\n",
       "       u'gFTr_avg10', u'gDRB%_avg10', u'gTRB%_avg10', u'gAST%_avg10',\n",
       "       u'gSTL%_avg10', u'gBLK%_avg10', u'gDRtg_avg10', u'host_wins'],\n",
       "      dtype='object')"
      ]
     },
     "execution_count": 14,
     "metadata": {},
     "output_type": "execute_result"
    }
   ],
   "source": [
    "data.columns"
   ]
  },
  {
   "cell_type": "code",
   "execution_count": 9,
   "metadata": {},
   "outputs": [
    {
     "data": {
      "text/plain": [
       "array([2013, 2014, 2015, 2016])"
      ]
     },
     "execution_count": 9,
     "metadata": {},
     "output_type": "execute_result"
    }
   ],
   "source": [
    "data.Season.unique()"
   ]
  },
  {
   "cell_type": "code",
   "execution_count": 10,
   "metadata": {},
   "outputs": [
    {
     "data": {
      "text/plain": [
       "0             Utah Jazz\n",
       "1    Philadelphia 76ers\n",
       "2     San Antonio Spurs\n",
       "3       New York Knicks\n",
       "4        Denver Nuggets\n",
       "Name: winner, dtype: object"
      ]
     },
     "execution_count": 10,
     "metadata": {},
     "output_type": "execute_result"
    }
   ],
   "source": [
    "data.winner.head()"
   ]
  },
  {
   "cell_type": "code",
   "execution_count": 11,
   "metadata": {
    "collapsed": true
   },
   "outputs": [],
   "source": [
    "data['host_wins'] = (data.HostName == data.winner).astype(int)"
   ]
  },
  {
   "cell_type": "code",
   "execution_count": 12,
   "metadata": {},
   "outputs": [
    {
     "data": {
      "text/plain": [
       "0    0\n",
       "1    1\n",
       "2    0\n",
       "3    0\n",
       "4    0\n",
       "Name: host_wins, dtype: int64"
      ]
     },
     "execution_count": 12,
     "metadata": {},
     "output_type": "execute_result"
    }
   ],
   "source": [
    "data['host_wins'].head()"
   ]
  },
  {
   "cell_type": "code",
   "execution_count": 13,
   "metadata": {
    "collapsed": true
   },
   "outputs": [],
   "source": [
    "predictors = [c for c in data.columns if c not in ['GameId','GameDate','GameTime','HostName',\n",
    "                                                   'GuestName','total_score','total_line','game_line',\n",
    "                                                   'winner','loser','host_wins','Season']]\n",
    "X = data[predictors]\n",
    "y = data.host_wins.values"
   ]
  },
  {
   "cell_type": "markdown",
   "metadata": {},
   "source": [
    "### Create the training and testing data\n",
    "- Test data should be the 2016 season data, train data will be the previous seasons.\n",
    "- Make sure to standardize your predictor matrix (easiest to do prior to splitting the data into training and testing)!"
   ]
  },
  {
   "cell_type": "code",
   "execution_count": 21,
   "metadata": {
    "collapsed": true
   },
   "outputs": [],
   "source": [
    "from sklearn.preprocessing import StandardScaler"
   ]
  },
  {
   "cell_type": "code",
   "execution_count": 19,
   "metadata": {},
   "outputs": [],
   "source": [
    "# A:\n",
    "ss = StandardScaler()\n",
    "Xs = ss.fit_transform(X)"
   ]
  },
  {
   "cell_type": "code",
   "execution_count": 23,
   "metadata": {},
   "outputs": [],
   "source": [
    "X_train = Xs[data.Season.isin([2013, 2014, 2015]).values, :]\n",
    "X_test = Xs[(data.Season == 2016).values,:]\n",
    "\n",
    "y_train = y[data.Season.isin([2013, 2014, 2015]).values]\n",
    "y_test = y[(data.Season == 2016).values]"
   ]
  },
  {
   "cell_type": "markdown",
   "metadata": {},
   "source": [
    "<a id='fit-knn'></a>\n",
    "\n",
    "## Fitting the default KNN\n",
    "\n",
    "---\n",
    "\n",
    "Below we can fit a default `KNeighborsClassifier` to predict win vs. not on the training data, then score it on the testing data. \n",
    "\n",
    "Make sure to compare your score to the baseline accuracy."
   ]
  },
  {
   "cell_type": "code",
   "execution_count": 25,
   "metadata": {
    "collapsed": true
   },
   "outputs": [],
   "source": [
    "from sklearn.neighbors import KNeighborsClassifier"
   ]
  },
  {
   "cell_type": "code",
   "execution_count": 26,
   "metadata": {},
   "outputs": [
    {
     "data": {
      "text/plain": [
       "KNeighborsClassifier(algorithm='auto', leaf_size=30, metric='minkowski',\n",
       "           metric_params=None, n_jobs=1, n_neighbors=5, p=2,\n",
       "           weights='uniform')"
      ]
     },
     "execution_count": 26,
     "metadata": {},
     "output_type": "execute_result"
    }
   ],
   "source": [
    "# A:\n",
    "knn = KNeighborsClassifier()\n",
    "knn.fit(X_train, y_train)"
   ]
  },
  {
   "cell_type": "code",
   "execution_count": 27,
   "metadata": {},
   "outputs": [
    {
     "data": {
      "text/plain": [
       "0.57258883248730963"
      ]
     },
     "execution_count": 27,
     "metadata": {},
     "output_type": "execute_result"
    }
   ],
   "source": [
    "knn.score(X_test, y_test)"
   ]
  },
  {
   "cell_type": "code",
   "execution_count": 28,
   "metadata": {},
   "outputs": [
    {
     "name": "stdout",
     "output_type": "stream",
     "text": [
      "0.603045685279\n"
     ]
    }
   ],
   "source": [
    "print np.mean(y_test)"
   ]
  },
  {
   "cell_type": "markdown",
   "metadata": {},
   "source": [
    "<a id='searching'></a>\n",
    "\n",
    "## Searching for the best hyperparameters\n",
    "\n",
    "---\n",
    "\n",
    "Our default KNN performs quite poorly on the test data. But what if we changed the number of neighbors? The weighting? The distance metric?\n",
    "\n",
    "These are all hyperparameters of the KNN. How would we do this manually? We would need to evaluate on the training data the set of hyperparameters that perform best, and then use this set of hyperparameters to fit the final model and score on the testing set.\n",
    "\n",
    "<a id='pseudocode'></a>\n",
    "### Gridsearch pseudocode for our KNN\n",
    "\n",
    "```python\n",
    "accuracies = {}\n",
    "for k in neighbors_to_test:\n",
    "    for w in weightings_to_test:\n",
    "        for d in distance_metrics_to_test:\n",
    "            hyperparam_set = (k, w, d)\n",
    "            knn = KNeighborsClassifier(n_neighbors=n, weights=w, metric=d)\n",
    "            cv_accuracies = cross_val_score(knn, X_train, y_train, cv=5)\n",
    "            accuracies[hyperparam_set] = np.mean(cv_accuracies)\n",
    "```\n",
    "\n",
    "In the pseudocode above, we would find the key in the dictionary (a hyperparameter set) that has the larget value (mean cross-validated accuracy).\n",
    "\n"
   ]
  },
  {
   "cell_type": "markdown",
   "metadata": {},
   "source": [
    "<a id='gscv'></a>\n",
    "### Using `GridSearchCV`\n",
    "\n",
    "This would be an annoying process to have to do manually. Luckily sklearn comes with a convenience class for performing gridsearch:\n",
    "\n",
    "```python\n",
    "from sklearn.model_selection import GridSearchCV\n",
    "```\n",
    "\n",
    "The `GridSearchCV` has a handful of important arguments:\n",
    "\n",
    "| Argument | Description |\n",
    "| --- | ---|\n",
    "| **`estimator`** | The sklearn instance of the model to fit on |\n",
    "| **`param_grid`** | A dictionary where keys are hyperparameters for the model and values are lists of values to test |\n",
    "| **`cv`** | The number of internal cross-validation folds to run for each set of hyperparameters |\n",
    "| **`n_jobs`** | How many cores to use on your computer to run the folds (-1 means use all cores) |\n",
    "| **`verbose`** | How much output to display (0 is none, 1 is limited, 2 is printouts for every internal fit) |\n",
    "\n",
    "\n",
    "Below is an example for how one might set up the gridsearch for our KNN:\n",
    "\n",
    "```python\n",
    "knn_parameters = {\n",
    "    'n_neighbors':[1,3,5,7,9],\n",
    "    'weights':['uniform','distance']\n",
    "}\n",
    "\n",
    "knn_gridsearcher = GridSearchCV(KNeighborsClassifier(), knn_parameters, verbose=1)\n",
    "knn_gridsearcher.fit(X_train, y_train)\n",
    "```\n",
    "\n",
    "**Try out the sklearn gridsearch below on the training data.**"
   ]
  },
  {
   "cell_type": "code",
   "execution_count": 30,
   "metadata": {
    "collapsed": true
   },
   "outputs": [],
   "source": [
    "from sklearn.model_selection import GridSearchCV"
   ]
  },
  {
   "cell_type": "code",
   "execution_count": 31,
   "metadata": {},
   "outputs": [
    {
     "name": "stdout",
     "output_type": "stream",
     "text": [
      "Fitting 5 folds for each of 24 candidates, totalling 120 fits\n"
     ]
    },
    {
     "name": "stderr",
     "output_type": "stream",
     "text": [
      "[Parallel(n_jobs=1)]: Done 120 out of 120 | elapsed:  1.8min finished\n"
     ]
    },
    {
     "data": {
      "text/plain": [
       "GridSearchCV(cv=5, error_score='raise',\n",
       "       estimator=KNeighborsClassifier(algorithm='auto', leaf_size=30, metric='minkowski',\n",
       "           metric_params=None, n_jobs=1, n_neighbors=5, p=2,\n",
       "           weights='uniform'),\n",
       "       fit_params={}, iid=True, n_jobs=1,\n",
       "       param_grid={'n_neighbors': [1, 3, 5, 9, 15, 21], 'metric': ['euclidean', 'manhattan'], 'weights': ['uniform', 'distance']},\n",
       "       pre_dispatch='2*n_jobs', refit=True, return_train_score=True,\n",
       "       scoring=None, verbose=1)"
      ]
     },
     "execution_count": 31,
     "metadata": {},
     "output_type": "execute_result"
    }
   ],
   "source": [
    "# A:\n",
    "knn_params = {\n",
    "    'n_neighbors':[1,3,5,9,15,21],\n",
    "    'weights':['uniform','distance'],\n",
    "    'metric':['euclidean','manhattan']\n",
    "}\n",
    "\n",
    "knn_gridsearch = GridSearchCV(KNeighborsClassifier(), knn_params, cv=5, verbose=1)\n",
    "\n",
    "knn_gridsearch.fit(X_train, y_train)"
   ]
  },
  {
   "cell_type": "markdown",
   "metadata": {},
   "source": [
    "<a id='gs-results'></a>\n",
    "### Examining the results of the gridsearch\n",
    "\n",
    "Once the gridsearch has fit (this can take awhile!) we can pull out a variety of information and useful objects from the gridsearch object, stored as attributes:\n",
    "\n",
    "| Property | Use |\n",
    "| --- | ---|\n",
    "| **`results.param_grid`** | Displays parameters searched over. |\n",
    "| **`results.best_score_`** | Best mean cross-validated score achieved. |\n",
    "| **`results.best_estimator_`** | Reference to model with best score.  Is usable / callable. |\n",
    "| **`results.best_params_`** | The parameters that have been found to perform with the best score. |\n",
    "| **`results.grid_scores_`** | Display score attributes with corresponding parameters. | \n",
    "\n",
    "**Print out the best score found in the search.**"
   ]
  },
  {
   "cell_type": "code",
   "execution_count": 32,
   "metadata": {},
   "outputs": [
    {
     "data": {
      "text/plain": [
       "0.61264822134387353"
      ]
     },
     "execution_count": 32,
     "metadata": {},
     "output_type": "execute_result"
    }
   ],
   "source": [
    "# A:\n",
    "knn_gridsearch.best_score_"
   ]
  },
  {
   "cell_type": "markdown",
   "metadata": {},
   "source": [
    "**Print out the set of hyperparameters that achieved the best score.**"
   ]
  },
  {
   "cell_type": "code",
   "execution_count": 33,
   "metadata": {},
   "outputs": [
    {
     "data": {
      "text/plain": [
       "{'metric': 'manhattan', 'n_neighbors': 21, 'weights': 'uniform'}"
      ]
     },
     "execution_count": 33,
     "metadata": {},
     "output_type": "execute_result"
    }
   ],
   "source": [
    "# A:\n",
    "knn_gridsearch.best_params_"
   ]
  },
  {
   "cell_type": "markdown",
   "metadata": {},
   "source": [
    "**Assign the best fit model (`best_estimator_`) to a variable and score it on the test data.**\n",
    "\n",
    "Compare this model to the baseline accuracy and your default KNN."
   ]
  },
  {
   "cell_type": "code",
   "execution_count": 34,
   "metadata": {},
   "outputs": [
    {
     "data": {
      "text/plain": [
       "0.62538071065989853"
      ]
     },
     "execution_count": 34,
     "metadata": {},
     "output_type": "execute_result"
    }
   ],
   "source": [
    "# A:\n",
    "best_knn = knn_gridsearch.best_estimator_\n",
    "best_knn.score(X_test, y_test)"
   ]
  },
  {
   "cell_type": "code",
   "execution_count": 35,
   "metadata": {},
   "outputs": [
    {
     "name": "stdout",
     "output_type": "stream",
     "text": [
      "baseline: 0.603045685279\n",
      "default KNN: 0.572588832487\n"
     ]
    }
   ],
   "source": [
    "print 'baseline:', np.mean(y_test)\n",
    "print 'default KNN:', knn.score(X_test, y_test)"
   ]
  },
  {
   "cell_type": "code",
   "execution_count": 40,
   "metadata": {},
   "outputs": [
    {
     "name": "stderr",
     "output_type": "stream",
     "text": [
      "/anaconda/envs/py27/lib/python2.7/site-packages/sklearn/model_selection/_search.py:667: DeprecationWarning: The grid_scores_ attribute was deprecated in version 0.18 in favor of the more elaborate cv_results_ attribute. The grid_scores_ attribute will not be available from 0.20\n",
      "  DeprecationWarning)\n"
     ]
    },
    {
     "data": {
      "text/plain": [
       "[mean: 0.56091, std: 0.01578, params: {'n_neighbors': 1, 'metric': 'euclidean', 'weights': 'uniform'},\n",
       " mean: 0.56091, std: 0.01578, params: {'n_neighbors': 1, 'metric': 'euclidean', 'weights': 'distance'},\n",
       " mean: 0.57240, std: 0.02137, params: {'n_neighbors': 3, 'metric': 'euclidean', 'weights': 'uniform'},\n",
       " mean: 0.57240, std: 0.02137, params: {'n_neighbors': 3, 'metric': 'euclidean', 'weights': 'distance'},\n",
       " mean: 0.59217, std: 0.01212, params: {'n_neighbors': 5, 'metric': 'euclidean', 'weights': 'uniform'},\n",
       " mean: 0.59217, std: 0.01212, params: {'n_neighbors': 5, 'metric': 'euclidean', 'weights': 'distance'},\n",
       " mean: 0.60546, std: 0.01562, params: {'n_neighbors': 9, 'metric': 'euclidean', 'weights': 'uniform'},\n",
       " mean: 0.60546, std: 0.01562, params: {'n_neighbors': 9, 'metric': 'euclidean', 'weights': 'distance'},\n",
       " mean: 0.60618, std: 0.01503, params: {'n_neighbors': 15, 'metric': 'euclidean', 'weights': 'uniform'},\n",
       " mean: 0.60618, std: 0.01503, params: {'n_neighbors': 15, 'metric': 'euclidean', 'weights': 'distance'},\n",
       " mean: 0.61085, std: 0.00479, params: {'n_neighbors': 21, 'metric': 'euclidean', 'weights': 'uniform'},\n",
       " mean: 0.61085, std: 0.00479, params: {'n_neighbors': 21, 'metric': 'euclidean', 'weights': 'distance'},\n",
       " mean: 0.56055, std: 0.02168, params: {'n_neighbors': 1, 'metric': 'manhattan', 'weights': 'uniform'},\n",
       " mean: 0.56055, std: 0.02168, params: {'n_neighbors': 1, 'metric': 'manhattan', 'weights': 'distance'},\n",
       " mean: 0.57133, std: 0.02843, params: {'n_neighbors': 3, 'metric': 'manhattan', 'weights': 'uniform'},\n",
       " mean: 0.57133, std: 0.02843, params: {'n_neighbors': 3, 'metric': 'manhattan', 'weights': 'distance'},\n",
       " mean: 0.59899, std: 0.01399, params: {'n_neighbors': 5, 'metric': 'manhattan', 'weights': 'uniform'},\n",
       " mean: 0.59899, std: 0.01399, params: {'n_neighbors': 5, 'metric': 'manhattan', 'weights': 'distance'},\n",
       " mean: 0.60007, std: 0.01748, params: {'n_neighbors': 9, 'metric': 'manhattan', 'weights': 'uniform'},\n",
       " mean: 0.60007, std: 0.01748, params: {'n_neighbors': 9, 'metric': 'manhattan', 'weights': 'distance'},\n",
       " mean: 0.60618, std: 0.01431, params: {'n_neighbors': 15, 'metric': 'manhattan', 'weights': 'uniform'},\n",
       " mean: 0.60546, std: 0.01497, params: {'n_neighbors': 15, 'metric': 'manhattan', 'weights': 'distance'},\n",
       " mean: 0.61265, std: 0.01266, params: {'n_neighbors': 21, 'metric': 'manhattan', 'weights': 'uniform'},\n",
       " mean: 0.61121, std: 0.01285, params: {'n_neighbors': 21, 'metric': 'manhattan', 'weights': 'distance'}]"
      ]
     },
     "execution_count": 40,
     "metadata": {},
     "output_type": "execute_result"
    }
   ],
   "source": [
    "knn_gridsearch.grid_scores_\n",
    "\n",
    "# Use .cd_results_ below -> will replace .grid_scores_ soon\n",
    "# Notice the difference between the two results"
   ]
  },
  {
   "cell_type": "code",
   "execution_count": 37,
   "metadata": {},
   "outputs": [
    {
     "data": {
      "text/plain": [
       "{'mean_fit_time': array([ 0.0052978 ,  0.00509443,  0.00467501,  0.00579915,  0.00508776,\n",
       "         0.00452099,  0.00585575,  0.00453038,  0.00429025,  0.00461078,\n",
       "         0.00481887,  0.00445542,  0.004072  ,  0.00497289,  0.00545292,\n",
       "         0.00466223,  0.00454783,  0.0051106 ,  0.00500917,  0.00444875,\n",
       "         0.00424528,  0.00420141,  0.00434756,  0.00416307]),\n",
       " 'mean_score_time': array([ 0.21400504,  0.19227757,  0.18743558,  0.20143743,  0.20597606,\n",
       "         0.20433617,  0.20757146,  0.21941023,  0.19413462,  0.19180822,\n",
       "         0.20171161,  0.22209024,  0.17385559,  0.23072686,  0.20329823,\n",
       "         0.20702758,  0.17604718,  0.17872157,  0.20096679,  0.19957404,\n",
       "         0.17589817,  0.17763462,  0.18357744,  0.17488012]),\n",
       " 'mean_test_score': array([ 0.5609055 ,  0.5609055 ,  0.57240388,  0.57240388,  0.59216673,\n",
       "         0.59216673,  0.60546173,  0.60546173,  0.60618038,  0.60618038,\n",
       "         0.6108516 ,  0.6108516 ,  0.56054617,  0.56054617,  0.57132591,\n",
       "         0.57132591,  0.59899389,  0.59899389,  0.60007186,  0.60007186,\n",
       "         0.60618038,  0.60546173,  0.61264822,  0.61121092]),\n",
       " 'mean_train_score': array([ 1.        ,  1.        ,  0.78790899,  1.        ,  0.75242553,\n",
       "         1.        ,  0.71263022,  1.        ,  0.68990302,  1.        ,\n",
       "         0.68190798,  1.        ,  1.        ,  1.        ,  0.79410675,\n",
       "         1.        ,  0.74586693,  1.        ,  0.71235991,  1.        ,\n",
       "         0.69816751,  1.        ,  0.68532085,  1.        ]),\n",
       " 'param_metric': masked_array(data = ['euclidean' 'euclidean' 'euclidean' 'euclidean' 'euclidean' 'euclidean'\n",
       "  'euclidean' 'euclidean' 'euclidean' 'euclidean' 'euclidean' 'euclidean'\n",
       "  'manhattan' 'manhattan' 'manhattan' 'manhattan' 'manhattan' 'manhattan'\n",
       "  'manhattan' 'manhattan' 'manhattan' 'manhattan' 'manhattan' 'manhattan'],\n",
       "              mask = [False False False False False False False False False False False False\n",
       "  False False False False False False False False False False False False],\n",
       "        fill_value = ?),\n",
       " 'param_n_neighbors': masked_array(data = [1 1 3 3 5 5 9 9 15 15 21 21 1 1 3 3 5 5 9 9 15 15 21 21],\n",
       "              mask = [False False False False False False False False False False False False\n",
       "  False False False False False False False False False False False False],\n",
       "        fill_value = ?),\n",
       " 'param_weights': masked_array(data = ['uniform' 'distance' 'uniform' 'distance' 'uniform' 'distance' 'uniform'\n",
       "  'distance' 'uniform' 'distance' 'uniform' 'distance' 'uniform' 'distance'\n",
       "  'uniform' 'distance' 'uniform' 'distance' 'uniform' 'distance' 'uniform'\n",
       "  'distance' 'uniform' 'distance'],\n",
       "              mask = [False False False False False False False False False False False False\n",
       "  False False False False False False False False False False False False],\n",
       "        fill_value = ?),\n",
       " 'params': ({'metric': 'euclidean', 'n_neighbors': 1, 'weights': 'uniform'},\n",
       "  {'metric': 'euclidean', 'n_neighbors': 1, 'weights': 'distance'},\n",
       "  {'metric': 'euclidean', 'n_neighbors': 3, 'weights': 'uniform'},\n",
       "  {'metric': 'euclidean', 'n_neighbors': 3, 'weights': 'distance'},\n",
       "  {'metric': 'euclidean', 'n_neighbors': 5, 'weights': 'uniform'},\n",
       "  {'metric': 'euclidean', 'n_neighbors': 5, 'weights': 'distance'},\n",
       "  {'metric': 'euclidean', 'n_neighbors': 9, 'weights': 'uniform'},\n",
       "  {'metric': 'euclidean', 'n_neighbors': 9, 'weights': 'distance'},\n",
       "  {'metric': 'euclidean', 'n_neighbors': 15, 'weights': 'uniform'},\n",
       "  {'metric': 'euclidean', 'n_neighbors': 15, 'weights': 'distance'},\n",
       "  {'metric': 'euclidean', 'n_neighbors': 21, 'weights': 'uniform'},\n",
       "  {'metric': 'euclidean', 'n_neighbors': 21, 'weights': 'distance'},\n",
       "  {'metric': 'manhattan', 'n_neighbors': 1, 'weights': 'uniform'},\n",
       "  {'metric': 'manhattan', 'n_neighbors': 1, 'weights': 'distance'},\n",
       "  {'metric': 'manhattan', 'n_neighbors': 3, 'weights': 'uniform'},\n",
       "  {'metric': 'manhattan', 'n_neighbors': 3, 'weights': 'distance'},\n",
       "  {'metric': 'manhattan', 'n_neighbors': 5, 'weights': 'uniform'},\n",
       "  {'metric': 'manhattan', 'n_neighbors': 5, 'weights': 'distance'},\n",
       "  {'metric': 'manhattan', 'n_neighbors': 9, 'weights': 'uniform'},\n",
       "  {'metric': 'manhattan', 'n_neighbors': 9, 'weights': 'distance'},\n",
       "  {'metric': 'manhattan', 'n_neighbors': 15, 'weights': 'uniform'},\n",
       "  {'metric': 'manhattan', 'n_neighbors': 15, 'weights': 'distance'},\n",
       "  {'metric': 'manhattan', 'n_neighbors': 21, 'weights': 'uniform'},\n",
       "  {'metric': 'manhattan', 'n_neighbors': 21, 'weights': 'distance'}),\n",
       " 'rank_test_score': array([21, 21, 17, 17, 15, 15,  8,  8,  5,  5,  3,  3, 23, 23, 19, 19, 13,\n",
       "        13, 11, 11,  5,  8,  1,  2], dtype=int32),\n",
       " 'split0_test_score': array([ 0.54219031,  0.54219031,  0.56373429,  0.56373429,  0.59605027,\n",
       "         0.59605027,  0.62118492,  0.62118492,  0.60502693,  0.60502693,\n",
       "         0.61400359,  0.61400359,  0.54937163,  0.54937163,  0.54937163,\n",
       "         0.54937163,  0.60861759,  0.60861759,  0.62118492,  0.62118492,\n",
       "         0.62298025,  0.62298025,  0.63195691,  0.63195691]),\n",
       " 'split0_train_score': array([ 1.        ,  1.        ,  0.79065588,  1.        ,  0.74618149,\n",
       "         1.        ,  0.71248877,  1.        ,  0.69002695,  1.        ,\n",
       "         0.67789757,  1.        ,  1.        ,  1.        ,  0.78930818,\n",
       "         1.        ,  0.74123989,  1.        ,  0.70844564,  1.        ,\n",
       "         0.69227314,  1.        ,  0.67834681,  1.        ]),\n",
       " 'split1_test_score': array([ 0.54937163,  0.54937163,  0.5475763 ,  0.5475763 ,  0.57630162,\n",
       "         0.57630162,  0.59964093,  0.59964093,  0.60143627,  0.60143627,\n",
       "         0.60682226,  0.60682226,  0.53680431,  0.53680431,  0.54578097,\n",
       "         0.54578097,  0.60682226,  0.60682226,  0.60143627,  0.60143627,\n",
       "         0.59425494,  0.59066427,  0.60143627,  0.59964093]),\n",
       " 'split1_train_score': array([ 1.        ,  1.        ,  0.79784367,  1.        ,  0.76639712,\n",
       "         1.        ,  0.72506739,  1.        ,  0.69721473,  1.        ,\n",
       "         0.69137466,  1.        ,  1.        ,  1.        ,  0.80008985,\n",
       "         1.        ,  0.74932615,  1.        ,  0.7115903 ,  1.        ,\n",
       "         0.70485175,  1.        ,  0.68912848,  1.        ]),\n",
       " 'split2_test_score': array([ 0.57630162,  0.57630162,  0.57450628,  0.57450628,  0.59425494,\n",
       "         0.59425494,  0.57989228,  0.57989228,  0.60861759,  0.60861759,\n",
       "         0.61759425,  0.61759425,  0.59425494,  0.59425494,  0.5978456 ,\n",
       "         0.5978456 ,  0.59066427,  0.59066427,  0.60861759,  0.60861759,\n",
       "         0.5978456 ,  0.5978456 ,  0.61220826,  0.60861759]),\n",
       " 'split2_train_score': array([ 1.        ,  1.        ,  0.77807727,  1.        ,  0.74573226,\n",
       "         1.        ,  0.69991015,  1.        ,  0.68283917,  1.        ,\n",
       "         0.67610063,  1.        ,  1.        ,  1.        ,  0.78930818,\n",
       "         1.        ,  0.737646  ,  1.        ,  0.70754717,  1.        ,\n",
       "         0.69811321,  1.        ,  0.68014376,  1.        ]),\n",
       " 'split3_test_score': array([ 0.55395683,  0.55395683,  0.5647482 ,  0.5647482 ,  0.58273381,\n",
       "         0.58273381,  0.60431655,  0.60431655,  0.58453237,  0.58453237,\n",
       "         0.60431655,  0.60431655,  0.54496403,  0.54496403,  0.55035971,\n",
       "         0.55035971,  0.57553957,  0.57553957,  0.56834532,  0.56834532,\n",
       "         0.59172662,  0.59172662,  0.5971223 ,  0.5971223 ]),\n",
       " 'split3_train_score': array([ 1.        ,  1.        ,  0.78266727,  1.        ,  0.75123485,\n",
       "         1.        ,  0.71261787,  1.        ,  0.69196228,  1.        ,\n",
       "         0.68073642,  1.        ,  1.        ,  1.        ,  0.79254603,\n",
       "         1.        ,  0.7453974 ,  1.        ,  0.71800629,  1.        ,\n",
       "         0.69959587,  1.        ,  0.68971711,  1.        ]),\n",
       " 'split4_test_score': array([ 0.58273381,  0.58273381,  0.61151079,  0.61151079,  0.61151079,\n",
       "         0.61151079,  0.62230216,  0.62230216,  0.63129496,  0.63129496,\n",
       "         0.61151079,  0.61151079,  0.57733813,  0.57733813,  0.61330935,\n",
       "         0.61330935,  0.61330935,  0.61330935,  0.60071942,  0.60071942,\n",
       "         0.62410072,  0.62410072,  0.6205036 ,  0.61870504]),\n",
       " 'split4_train_score': array([ 1.        ,  1.        ,  0.79030085,  1.        ,  0.75258195,\n",
       "         1.        ,  0.71306691,  1.        ,  0.68747194,  1.        ,\n",
       "         0.68343062,  1.        ,  1.        ,  1.        ,  0.79928154,\n",
       "         1.        ,  0.75572519,  1.        ,  0.71621015,  1.        ,\n",
       "         0.69600359,  1.        ,  0.68926807,  1.        ]),\n",
       " 'std_fit_time': array([  7.15549943e-04,   1.65070368e-03,   6.55079256e-04,\n",
       "          2.16682475e-03,   8.68249115e-04,   3.87364781e-04,\n",
       "          2.13676520e-03,   1.27696724e-04,   3.19941800e-04,\n",
       "          3.02150905e-04,   5.60007583e-04,   3.85600158e-04,\n",
       "          7.53187499e-05,   1.68740782e-03,   1.52752290e-03,\n",
       "          4.88023052e-04,   8.30810624e-04,   1.42678001e-03,\n",
       "          1.05006813e-03,   4.87196418e-04,   2.63009735e-04,\n",
       "          1.31306876e-04,   2.31076487e-04,   1.18525202e-04]),\n",
       " 'std_score_time': array([ 0.04392065,  0.01554039,  0.00637392,  0.02762974,  0.01948249,\n",
       "         0.01071015,  0.02607117,  0.0487012 ,  0.01168202,  0.01052686,\n",
       "         0.01818186,  0.03618179,  0.00763781,  0.04761992,  0.02365846,\n",
       "         0.03519805,  0.00612798,  0.00730709,  0.01461103,  0.03670929,\n",
       "         0.00462727,  0.00293586,  0.01070647,  0.00306792]),\n",
       " 'std_test_score': array([ 0.01577999,  0.01577999,  0.02136698,  0.02136698,  0.01211621,\n",
       "         0.01211621,  0.01562161,  0.01562161,  0.01501993,  0.01501993,\n",
       "         0.00479125,  0.00479125,  0.02168108,  0.02168108,  0.0284217 ,\n",
       "         0.0284217 ,  0.01398332,  0.01398332,  0.01747532,  0.01747532,\n",
       "         0.01430911,  0.01496513,  0.01266112,  0.01285125]),\n",
       " 'std_train_score': array([ 0.        ,  0.        ,  0.00687172,  0.        ,  0.00748913,\n",
       "         0.        ,  0.00795857,  0.        ,  0.00476498,  0.        ,\n",
       "         0.0053501 ,  0.        ,  0.        ,  0.        ,  0.00471305,\n",
       "         0.        ,  0.00629865,  0.        ,  0.00414203,  0.        ,\n",
       "         0.00415087,  0.        ,  0.0049969 ,  0.        ])}"
      ]
     },
     "execution_count": 37,
     "metadata": {},
     "output_type": "execute_result"
    }
   ],
   "source": [
    "knn_gridsearch.cv_results_"
   ]
  },
  {
   "cell_type": "markdown",
   "metadata": {},
   "source": [
    "<a id='caution'></a>\n",
    "\n",
    "## A caution on gridsearching\n",
    "\n",
    "---\n",
    "\n",
    "Sklearn models often have many options/hyperparameters with many different possible values. It may be tempting to search over a wide variety of them. In general, this is not wise.\n",
    "\n",
    "Remember that **gridsearch searches over all possible combinations of hyperparamters in the paramter dictionary!**\n",
    "\n",
    "The KNN model class takes a wider range of options during instantiation than we have explored. Imagine that we had this as our parameter dictionary:\n",
    "\n",
    "```python\n",
    "parameter_grid = {\n",
    "    'n_neighbors':range(1,151),\n",
    "    'weights':['uniform','distance',custom_function],\n",
    "    'algorithm':['ball_tree','kd_tree','brute','auto'],\n",
    "    'leaf_size':range(1,152),\n",
    "    'metric':['minkowski','euclidean'],\n",
    "    'p':[1,2]\n",
    "}\n",
    "```\n",
    "\n",
    "**How many different combinations will need to be tested?\n",
    "\n",
    "| Parameter | Potential Values | Unique Values |\n",
    "| --- | ---| ---: |\n",
    "| **n_neighbors** | int range 1-150 | 150 |\n",
    "| **weights** | strs:  \"uniform\", \"distance\" or user defined function | 3 |\n",
    "| **algorithm** | strs: \"ball_tree\", \"kd_tree\", \"brute\", \"auto\" | 4 |\n",
    "| **leaf_size** | int range 1-151 | 151 |\n",
    "| **metric** | str: \"minkowski\" or 'euclidean' type | 2 |\n",
    "| **p** | int: 1=manhattan_distance, 2= euclidean_distance | 2 |\n",
    "|| <br>_150 \\* 3 \\* 4 \\* 151 \\* 2 \\* 2 = n combinations_ <br><br>| _1,087,200_ |\n",
    "\n",
    "And that is over a million tests *before we even consider the number of cross-validation folds!*\n",
    "\n",
    "If you're not careful, gridsearching can quickly blow up. A lot of the hyperparameters we put in the dumb example above are either redundant or not useful.\n",
    "\n",
    "> **It is extremely important to understand what the hyperparameters do and think critically about what ranges are useful and relevant to your model!**\n"
   ]
  },
  {
   "cell_type": "markdown",
   "metadata": {},
   "source": [
    "<a id='practice'></a>\n",
    "\n",
    "## Independent practice: gridsearch regularization penalties with logistic regression\n",
    "\n",
    "---\n",
    "\n",
    "Logistic regression models can also apply the Lasso and Ridge penalties. The `LogisticRegression` class takes these regularization-relevant hyperparameters:\n",
    "\n",
    "| Argument | Description |\n",
    "| --- | ---|\n",
    "| **`penalty`** | `'l1'` for Lasso, `'l2'` for Ridge |\n",
    "| **`solver`** | Must be set to `'liblinear'` for the Lasso penalty to work. |\n",
    "| **`C`** | The regularization strength. Equivalent to `1./alpha` |\n",
    "\n",
    "**You should:**\n",
    "1. Fit and validate the accuracy of a default logistic regression on the basketball data.\n",
    "- Perform a gridsearch over different regularization strengths and Lasso and Ridge penalties.\n",
    "- Compare the accuracy on the test set of your optimized logistic regression to the baseline accuracy and the default model.\n",
    "- Look at the best parameters found. What was chosen? What does this suggest about our data?\n",
    "- Look at the (non-zero, if Lasso was selected as best) coefficients and associated predictors for your optimized model. What appears to be the most important predictors of winning the game?\n"
   ]
  },
  {
   "cell_type": "code",
   "execution_count": 13,
   "metadata": {},
   "outputs": [],
   "source": [
    "from sklearn.linear_model import LogisticRegression"
   ]
  },
  {
   "cell_type": "code",
   "execution_count": 14,
   "metadata": {
    "collapsed": true
   },
   "outputs": [],
   "source": [
    "# A:"
   ]
  }
 ],
 "metadata": {
  "kernelspec": {
   "display_name": "Python 2",
   "language": "python",
   "name": "python2"
  },
  "language_info": {
   "codemirror_mode": {
    "name": "ipython",
    "version": 2
   },
   "file_extension": ".py",
   "mimetype": "text/x-python",
   "name": "python",
   "nbconvert_exporter": "python",
   "pygments_lexer": "ipython2",
   "version": "2.7.13"
  }
 },
 "nbformat": 4,
 "nbformat_minor": 2
}
